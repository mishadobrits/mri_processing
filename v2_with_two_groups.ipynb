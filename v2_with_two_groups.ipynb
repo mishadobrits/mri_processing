{
 "cells": [
  {
   "cell_type": "code",
   "metadata": {
    "colab": {
     "base_uri": "https://localhost:8080/"
    },
    "id": "1Tt0ghctmx1e",
    "outputId": "0695f972-12bb-43c9-fe5f-3370e61d19b4",
    "ExecuteTime": {
     "end_time": "2025-02-06T14:48:26.644796Z",
     "start_time": "2025-02-06T14:48:20.489Z"
    }
   },
   "source": [
    "data = {}\n",
    "\n",
    "path_to_data = r'all_time-series/ts_cut'\n",
    "\n",
    "import os\n",
    "import numpy as np\n",
    "import re\n",
    "\n",
    "parser_regex = r'(ihb|china|rmet)_(open|close)_strategy-(\\d)_(GSR|noGSR).npy'\n",
    "extractor = re.compile(parser_regex)\n",
    "\n",
    "items = {atlas_name: {dataset_name: []\n",
    "                      for dataset_name in ['china', 'ihb', 'rmet']}\n",
    "         for atlas_name in ['HCPex', 'Brainnetome', 'AAL', 'Schaefer200']}\n",
    "\n",
    "for root, dirs, files in os.walk(path_to_data):\n",
    "    for file in files:\n",
    "        atlas = root.split(os.sep)[1]\n",
    "        source = root.split(os.sep)[2]\n",
    "        items[atlas][source].append(np.load(os.path.join(root, file)))"
   ],
   "outputs": [],
   "execution_count": 1
  },
  {
   "cell_type": "code",
   "source": [
    "from random import randint, seed, shuffle\n",
    "\n",
    "seed(42)"
   ],
   "metadata": {
    "collapsed": false,
    "ExecuteTime": {
     "end_time": "2025-02-06T14:48:26.685010Z",
     "start_time": "2025-02-06T14:48:26.681193Z"
    }
   },
   "outputs": [],
   "execution_count": 2
  },
  {
   "metadata": {
    "ExecuteTime": {
     "end_time": "2025-02-06T14:48:28.036430Z",
     "start_time": "2025-02-06T14:48:26.951998Z"
    }
   },
   "cell_type": "code",
   "source": [
    "import pandas as pd\n",
    "import numpy as np\n",
    "from itertools import combinations, product\n",
    "\n",
    "at = 'Brainnetome'\n",
    "db = 'rmet'\n",
    "q_people = 63\n",
    "brain_parts = 246\n",
    "q_pictures = 120\n",
    "train_percentage = 0.7"
   ],
   "outputs": [],
   "execution_count": 3
  },
  {
   "metadata": {
    "ExecuteTime": {
     "end_time": "2025-02-06T14:48:30.190203Z",
     "start_time": "2025-02-06T14:48:28.044666Z"
    }
   },
   "cell_type": "code",
   "source": [
    "i = 0\n",
    "data_dif = np.empty((338100, brain_parts + 1))\n",
    "for person1, person2 in combinations(range(int(q_people * train_percentage)), r=2):\n",
    "    for teg1, teg2 in combinations(range(len(items[at][db])), r=2):\n",
    "        a = items[at][db][teg1][person1][randint(0, q_pictures - 1)]\n",
    "        b = items[at][db][teg2][person2][randint(0, q_pictures - 1)]\n",
    "        data_dif[i] = np.hstack([a - b, np.array([0])])\n",
    "        i += 1"
   ],
   "outputs": [],
   "execution_count": 4
  },
  {
   "metadata": {
    "ExecuteTime": {
     "end_time": "2025-02-06T14:48:33.992028Z",
     "start_time": "2025-02-06T14:48:30.245517Z"
    }
   },
   "cell_type": "code",
   "source": [
    "i = 0\n",
    "data_same = np.empty((432000, brain_parts + 1))\n",
    "for person in range(int(q_people * train_percentage)):\n",
    "    for teg1, teg2 in product(range(len(items[at][db])), repeat=2):\n",
    "        idxs = list(range(q_pictures))\n",
    "        shuffle(idxs)\n",
    "        for idx in range(15):\n",
    "            a = items[at][db][teg1][person][idxs[idx]]\n",
    "            b = items[at][db][teg2][person][idxs[-idx - 1]]\n",
    "            data_same[i] = np.hstack([a - b, np.array([1])])\n",
    "            i += 1"
   ],
   "outputs": [],
   "execution_count": 5
  },
  {
   "cell_type": "code",
   "source": [
    "data_same = data_same[:data_dif.shape[0]]\n",
    "data = np.vstack([data_dif, data_same])"
   ],
   "metadata": {
    "collapsed": false,
    "ExecuteTime": {
     "end_time": "2025-02-06T14:48:36.175308Z",
     "start_time": "2025-02-06T14:48:34.015700Z"
    }
   },
   "outputs": [],
   "execution_count": 6
  },
  {
   "cell_type": "code",
   "metadata": {
    "ExecuteTime": {
     "end_time": "2025-02-06T14:49:07.737580Z",
     "start_time": "2025-02-06T14:48:36.195307Z"
    }
   },
   "source": [
    "df = pd.DataFrame(data)\n",
    "df = df.sample(frac=1).reset_index(drop=True)"
   ],
   "outputs": [],
   "execution_count": 7
  },
  {
   "cell_type": "code",
   "metadata": {
    "ExecuteTime": {
     "end_time": "2025-02-06T14:49:07.992868Z",
     "start_time": "2025-02-06T14:49:07.944102Z"
    }
   },
   "source": [
    "df.head()"
   ],
   "outputs": [
    {
     "data": {
      "text/plain": [
       "        0         1         2         3         4         5         6    \\\n",
       "0 -0.209470  0.371280 -1.131895 -0.163956 -0.958288  0.627653 -0.230389   \n",
       "1  1.030403 -0.326288  0.048898 -1.406976 -1.519416 -1.492172 -0.811243   \n",
       "2  0.000000  0.000000  0.000000  0.000000  0.000000  0.000000  0.000000   \n",
       "3  3.357369  1.254491  1.651910  0.676253  2.547613  1.108902  0.084267   \n",
       "4  0.687219 -0.018846  1.227181 -0.232630  2.385656  0.831690 -0.862561   \n",
       "\n",
       "        7         8         9    ...       237       238       239       240  \\\n",
       "0  0.307526 -0.609125 -0.299370  ...  3.507654  1.321494  2.024788  2.442091   \n",
       "1 -0.116310 -0.947651 -0.565061  ...  3.360684  1.007489 -0.100263 -0.988485   \n",
       "2  0.000000  0.000000  0.000000  ...  0.000000  0.000000  0.000000  0.000000   \n",
       "3  0.014575  2.598305  1.971964  ...  0.128753 -0.102458 -2.319209  0.968045   \n",
       "4 -0.633593 -1.375454  0.114808  ...  3.254623 -1.136756 -0.002639  1.750196   \n",
       "\n",
       "        241       242       243       244       245  246  \n",
       "0  3.145879  0.640271  0.961983  1.283943 -0.388224  1.0  \n",
       "1  0.293458  0.615108  0.013946  0.381470  0.300772  0.0  \n",
       "2  0.000000  0.000000  0.000000  0.000000  0.000000  0.0  \n",
       "3 -1.537404 -0.472319  0.672754  0.435855 -0.638342  0.0  \n",
       "4  1.029359  1.102148  1.353855  2.078236 -2.866110  1.0  \n",
       "\n",
       "[5 rows x 247 columns]"
      ],
      "text/html": [
       "<div>\n",
       "<style scoped>\n",
       "    .dataframe tbody tr th:only-of-type {\n",
       "        vertical-align: middle;\n",
       "    }\n",
       "\n",
       "    .dataframe tbody tr th {\n",
       "        vertical-align: top;\n",
       "    }\n",
       "\n",
       "    .dataframe thead th {\n",
       "        text-align: right;\n",
       "    }\n",
       "</style>\n",
       "<table border=\"1\" class=\"dataframe\">\n",
       "  <thead>\n",
       "    <tr style=\"text-align: right;\">\n",
       "      <th></th>\n",
       "      <th>0</th>\n",
       "      <th>1</th>\n",
       "      <th>2</th>\n",
       "      <th>3</th>\n",
       "      <th>4</th>\n",
       "      <th>5</th>\n",
       "      <th>6</th>\n",
       "      <th>7</th>\n",
       "      <th>8</th>\n",
       "      <th>9</th>\n",
       "      <th>...</th>\n",
       "      <th>237</th>\n",
       "      <th>238</th>\n",
       "      <th>239</th>\n",
       "      <th>240</th>\n",
       "      <th>241</th>\n",
       "      <th>242</th>\n",
       "      <th>243</th>\n",
       "      <th>244</th>\n",
       "      <th>245</th>\n",
       "      <th>246</th>\n",
       "    </tr>\n",
       "  </thead>\n",
       "  <tbody>\n",
       "    <tr>\n",
       "      <th>0</th>\n",
       "      <td>-0.209470</td>\n",
       "      <td>0.371280</td>\n",
       "      <td>-1.131895</td>\n",
       "      <td>-0.163956</td>\n",
       "      <td>-0.958288</td>\n",
       "      <td>0.627653</td>\n",
       "      <td>-0.230389</td>\n",
       "      <td>0.307526</td>\n",
       "      <td>-0.609125</td>\n",
       "      <td>-0.299370</td>\n",
       "      <td>...</td>\n",
       "      <td>3.507654</td>\n",
       "      <td>1.321494</td>\n",
       "      <td>2.024788</td>\n",
       "      <td>2.442091</td>\n",
       "      <td>3.145879</td>\n",
       "      <td>0.640271</td>\n",
       "      <td>0.961983</td>\n",
       "      <td>1.283943</td>\n",
       "      <td>-0.388224</td>\n",
       "      <td>1.0</td>\n",
       "    </tr>\n",
       "    <tr>\n",
       "      <th>1</th>\n",
       "      <td>1.030403</td>\n",
       "      <td>-0.326288</td>\n",
       "      <td>0.048898</td>\n",
       "      <td>-1.406976</td>\n",
       "      <td>-1.519416</td>\n",
       "      <td>-1.492172</td>\n",
       "      <td>-0.811243</td>\n",
       "      <td>-0.116310</td>\n",
       "      <td>-0.947651</td>\n",
       "      <td>-0.565061</td>\n",
       "      <td>...</td>\n",
       "      <td>3.360684</td>\n",
       "      <td>1.007489</td>\n",
       "      <td>-0.100263</td>\n",
       "      <td>-0.988485</td>\n",
       "      <td>0.293458</td>\n",
       "      <td>0.615108</td>\n",
       "      <td>0.013946</td>\n",
       "      <td>0.381470</td>\n",
       "      <td>0.300772</td>\n",
       "      <td>0.0</td>\n",
       "    </tr>\n",
       "    <tr>\n",
       "      <th>2</th>\n",
       "      <td>0.000000</td>\n",
       "      <td>0.000000</td>\n",
       "      <td>0.000000</td>\n",
       "      <td>0.000000</td>\n",
       "      <td>0.000000</td>\n",
       "      <td>0.000000</td>\n",
       "      <td>0.000000</td>\n",
       "      <td>0.000000</td>\n",
       "      <td>0.000000</td>\n",
       "      <td>0.000000</td>\n",
       "      <td>...</td>\n",
       "      <td>0.000000</td>\n",
       "      <td>0.000000</td>\n",
       "      <td>0.000000</td>\n",
       "      <td>0.000000</td>\n",
       "      <td>0.000000</td>\n",
       "      <td>0.000000</td>\n",
       "      <td>0.000000</td>\n",
       "      <td>0.000000</td>\n",
       "      <td>0.000000</td>\n",
       "      <td>0.0</td>\n",
       "    </tr>\n",
       "    <tr>\n",
       "      <th>3</th>\n",
       "      <td>3.357369</td>\n",
       "      <td>1.254491</td>\n",
       "      <td>1.651910</td>\n",
       "      <td>0.676253</td>\n",
       "      <td>2.547613</td>\n",
       "      <td>1.108902</td>\n",
       "      <td>0.084267</td>\n",
       "      <td>0.014575</td>\n",
       "      <td>2.598305</td>\n",
       "      <td>1.971964</td>\n",
       "      <td>...</td>\n",
       "      <td>0.128753</td>\n",
       "      <td>-0.102458</td>\n",
       "      <td>-2.319209</td>\n",
       "      <td>0.968045</td>\n",
       "      <td>-1.537404</td>\n",
       "      <td>-0.472319</td>\n",
       "      <td>0.672754</td>\n",
       "      <td>0.435855</td>\n",
       "      <td>-0.638342</td>\n",
       "      <td>0.0</td>\n",
       "    </tr>\n",
       "    <tr>\n",
       "      <th>4</th>\n",
       "      <td>0.687219</td>\n",
       "      <td>-0.018846</td>\n",
       "      <td>1.227181</td>\n",
       "      <td>-0.232630</td>\n",
       "      <td>2.385656</td>\n",
       "      <td>0.831690</td>\n",
       "      <td>-0.862561</td>\n",
       "      <td>-0.633593</td>\n",
       "      <td>-1.375454</td>\n",
       "      <td>0.114808</td>\n",
       "      <td>...</td>\n",
       "      <td>3.254623</td>\n",
       "      <td>-1.136756</td>\n",
       "      <td>-0.002639</td>\n",
       "      <td>1.750196</td>\n",
       "      <td>1.029359</td>\n",
       "      <td>1.102148</td>\n",
       "      <td>1.353855</td>\n",
       "      <td>2.078236</td>\n",
       "      <td>-2.866110</td>\n",
       "      <td>1.0</td>\n",
       "    </tr>\n",
       "  </tbody>\n",
       "</table>\n",
       "<p>5 rows × 247 columns</p>\n",
       "</div>"
      ]
     },
     "execution_count": 8,
     "metadata": {},
     "output_type": "execute_result"
    }
   ],
   "execution_count": 8
  },
  {
   "cell_type": "code",
   "source": [
    "df.columns"
   ],
   "metadata": {
    "collapsed": false,
    "ExecuteTime": {
     "end_time": "2025-02-06T14:49:08.957001Z",
     "start_time": "2025-02-06T14:49:08.951910Z"
    }
   },
   "outputs": [
    {
     "data": {
      "text/plain": [
       "RangeIndex(start=0, stop=247, step=1)"
      ]
     },
     "execution_count": 9,
     "metadata": {},
     "output_type": "execute_result"
    }
   ],
   "execution_count": 9
  },
  {
   "metadata": {
    "collapsed": false,
    "ExecuteTime": {
     "end_time": "2025-02-06T14:50:10.090796Z",
     "start_time": "2025-02-06T14:50:09.505668Z"
    }
   },
   "cell_type": "code",
   "source": [
    "i = 0\n",
    "other_data_dif = np.empty((42228, brain_parts + 1))\n",
    "for person1, person2 in combinations(range(int(q_people * (1 - train_percentage))), r=2):\n",
    "    for teg1, teg2 in combinations(range(len(items[at][db])), r=2):\n",
    "        a = items[at][db][teg1][person1][randint(0, q_pictures - 1)]\n",
    "        b = items[at][db][teg2][person2][randint(0, q_pictures - 1)]\n",
    "        other_data_dif[i] = np.hstack([a - b, np.array([0])])\n",
    "        i += 1"
   ],
   "outputs": [],
   "execution_count": 13
  },
  {
   "metadata": {
    "ExecuteTime": {
     "end_time": "2025-02-06T14:50:36.211584Z",
     "start_time": "2025-02-06T14:50:34.395340Z"
    }
   },
   "cell_type": "code",
   "source": [
    "i = 0\n",
    "other_data_same = np.empty((155520, brain_parts + 1))\n",
    "for person in range(int(q_people * (1 - train_percentage))):\n",
    "    for teg1, teg2 in product(range(len(items[at][db])), repeat=2):\n",
    "        idxs = list(range(q_pictures))\n",
    "        shuffle(idxs)\n",
    "        for idx in range(15):\n",
    "            a = items[at][db][teg1][person][idxs[idx]]\n",
    "            b = items[at][db][teg2][person][idxs[-idx - 1]]\n",
    "            other_data_same[i] = np.hstack([a - b, np.array([1])])\n",
    "            i += 1"
   ],
   "outputs": [],
   "execution_count": 16
  },
  {
   "cell_type": "code",
   "source": [
    "other_data = np.vstack([other_data_dif, other_data_same])\n",
    "other_df = pd.DataFrame(other_data)\n",
    "other_df = other_df.sample(frac=1).reset_index(drop=True)"
   ],
   "metadata": {
    "collapsed": false,
    "ExecuteTime": {
     "end_time": "2025-02-06T14:50:38.985713Z",
     "start_time": "2025-02-06T14:50:38.205237Z"
    }
   },
   "outputs": [],
   "execution_count": 17
  },
  {
   "cell_type": "code",
   "source": "other_df.shape, df.shape",
   "metadata": {
    "collapsed": false,
    "ExecuteTime": {
     "end_time": "2025-02-06T14:50:39.868746Z",
     "start_time": "2025-02-06T14:50:39.864419Z"
    }
   },
   "outputs": [
    {
     "data": {
      "text/plain": [
       "((197748, 247), (676200, 247))"
      ]
     },
     "execution_count": 18,
     "metadata": {},
     "output_type": "execute_result"
    }
   ],
   "execution_count": 18
  },
  {
   "metadata": {
    "ExecuteTime": {
     "end_time": "2025-02-06T14:50:40.583380Z",
     "start_time": "2025-02-06T14:50:40.580Z"
    }
   },
   "cell_type": "code",
   "source": "len(other_data_same)",
   "outputs": [
    {
     "data": {
      "text/plain": [
       "155520"
      ]
     },
     "execution_count": 19,
     "metadata": {},
     "output_type": "execute_result"
    }
   ],
   "execution_count": 19
  },
  {
   "metadata": {
    "ExecuteTime": {
     "end_time": "2025-02-06T14:50:42.803545Z",
     "start_time": "2025-02-06T14:50:41.791854Z"
    }
   },
   "cell_type": "code",
   "source": [
    "y_train = df[246]\n",
    "X_train = df.drop(246, axis=1)\n",
    "\n",
    "y_test = other_df[246]\n",
    "X_test = other_df.drop(246, axis=1)"
   ],
   "outputs": [],
   "execution_count": 20
  },
  {
   "metadata": {},
   "cell_type": "code",
   "outputs": [],
   "execution_count": null,
   "source": [
    "\n",
    "y_pred = model.predict(X_test)\n",
    "y_true = y_test"
   ]
  },
  {
   "metadata": {
    "ExecuteTime": {
     "end_time": "2025-02-06T14:50:50.158021Z",
     "start_time": "2025-02-06T14:50:43.768472Z"
    }
   },
   "cell_type": "code",
   "source": [
    "from sklearn.linear_model import LogisticRegression\n",
    "from sklearn.metrics import accuracy_score, f1_score, precision_score, recall_score\n",
    "\n",
    "model = LogisticRegression()\n",
    "model.fit(X_train, y_train)\n",
    "\n",
    "pred = model.predict(X_test)"
   ],
   "outputs": [],
   "execution_count": 21
  },
  {
   "metadata": {
    "ExecuteTime": {
     "end_time": "2025-02-06T14:50:51.660969Z",
     "start_time": "2025-02-06T14:50:51.454514Z"
    }
   },
   "cell_type": "code",
   "source": "accuracy_score(y_test, pred), f1_score(y_test, pred), precision_score(y_test, pred), recall_score(y_test, pred)",
   "outputs": [
    {
     "data": {
      "text/plain": [
       "(0.5004652385864838,\n",
       " 0.6120719447062519,\n",
       " 0.7862086359967716,\n",
       " 0.5010866769547325)"
      ]
     },
     "execution_count": 22,
     "metadata": {},
     "output_type": "execute_result"
    }
   ],
   "execution_count": 22
  },
  {
   "metadata": {},
   "cell_type": "code",
   "outputs": [],
   "execution_count": null,
   "source": [
    "# удобный отчет с основными метриками\n",
    "from sklearn.metrics import classification_report\n",
    "print(classification_report(y_true, y_pred, target_names=target_names))"
   ]
  },
  {
   "metadata": {},
   "cell_type": "markdown",
   "source": "'-------------------------------------------------------------------------------------------------------------------------------------------------------------------------------'"
  },
  {
   "cell_type": "code",
   "metadata": {
    "colab": {
     "base_uri": "https://localhost:8080/",
     "height": 877
    },
    "id": "tMaKhQydLxmp",
    "outputId": "17eda265-0283-44f7-a675-4fb72953b59b",
    "ExecuteTime": {
     "end_time": "2025-02-06T15:10:56.278795Z",
     "start_time": "2025-02-06T14:54:18.433293Z"
    }
   },
   "source": [
    "from catboost import CatBoostClassifier\n",
    "\n",
    "# Initialize CatBoostClassifier\n",
    "model = CatBoostClassifier(iterations=200,\n",
    "                           learning_rate=0.1,\n",
    "                           depth=12)\n",
    "# Fit model\n",
    "model.fit(X_train, y_train)"
   ],
   "outputs": [
    {
     "name": "stdout",
     "output_type": "stream",
     "text": [
      "0:\tlearn: 0.6470265\ttotal: 1.93s\tremaining: 6m 23s\n",
      "1:\tlearn: 0.6286528\ttotal: 3.96s\tremaining: 6m 32s\n",
      "2:\tlearn: 0.6202798\ttotal: 5.79s\tremaining: 6m 20s\n",
      "3:\tlearn: 0.6153925\ttotal: 7.59s\tremaining: 6m 11s\n",
      "4:\tlearn: 0.6126534\ttotal: 9.31s\tremaining: 6m 3s\n",
      "5:\tlearn: 0.6100288\ttotal: 11s\tremaining: 5m 55s\n",
      "6:\tlearn: 0.6082881\ttotal: 12.8s\tremaining: 5m 52s\n",
      "7:\tlearn: 0.6069450\ttotal: 14.7s\tremaining: 5m 52s\n",
      "8:\tlearn: 0.6058095\ttotal: 16.3s\tremaining: 5m 45s\n",
      "9:\tlearn: 0.6048460\ttotal: 17.6s\tremaining: 5m 34s\n",
      "10:\tlearn: 0.6041461\ttotal: 19.1s\tremaining: 5m 27s\n",
      "11:\tlearn: 0.6035004\ttotal: 20.5s\tremaining: 5m 21s\n",
      "12:\tlearn: 0.6018118\ttotal: 21.9s\tremaining: 5m 14s\n",
      "13:\tlearn: 0.6012966\ttotal: 23.3s\tremaining: 5m 9s\n",
      "14:\tlearn: 0.6005140\ttotal: 24.9s\tremaining: 5m 7s\n",
      "15:\tlearn: 0.5999457\ttotal: 26.3s\tremaining: 5m 2s\n",
      "16:\tlearn: 0.5995054\ttotal: 27.7s\tremaining: 4m 58s\n",
      "17:\tlearn: 0.5989293\ttotal: 29.2s\tremaining: 4m 55s\n",
      "18:\tlearn: 0.5985284\ttotal: 30.5s\tremaining: 4m 50s\n",
      "19:\tlearn: 0.5980210\ttotal: 32s\tremaining: 4m 47s\n",
      "20:\tlearn: 0.5974839\ttotal: 33.4s\tremaining: 4m 44s\n",
      "21:\tlearn: 0.5971193\ttotal: 34.7s\tremaining: 4m 41s\n",
      "22:\tlearn: 0.5967483\ttotal: 36.1s\tremaining: 4m 38s\n",
      "23:\tlearn: 0.5962839\ttotal: 37.6s\tremaining: 4m 35s\n",
      "24:\tlearn: 0.5959112\ttotal: 38.9s\tremaining: 4m 32s\n",
      "25:\tlearn: 0.5954215\ttotal: 40.3s\tremaining: 4m 29s\n",
      "26:\tlearn: 0.5948346\ttotal: 41.8s\tremaining: 4m 27s\n",
      "27:\tlearn: 0.5943718\ttotal: 43.3s\tremaining: 4m 25s\n",
      "28:\tlearn: 0.5939168\ttotal: 44.8s\tremaining: 4m 24s\n",
      "29:\tlearn: 0.5935498\ttotal: 46.2s\tremaining: 4m 21s\n",
      "30:\tlearn: 0.5932611\ttotal: 47.5s\tremaining: 4m 18s\n",
      "31:\tlearn: 0.5928532\ttotal: 48.9s\tremaining: 4m 16s\n",
      "32:\tlearn: 0.5925100\ttotal: 50.2s\tremaining: 4m 14s\n",
      "33:\tlearn: 0.5921364\ttotal: 51.7s\tremaining: 4m 12s\n",
      "34:\tlearn: 0.5918229\ttotal: 52.9s\tremaining: 4m 9s\n",
      "35:\tlearn: 0.5913592\ttotal: 54.5s\tremaining: 4m 8s\n",
      "36:\tlearn: 0.5908058\ttotal: 56.1s\tremaining: 4m 6s\n",
      "37:\tlearn: 0.5904321\ttotal: 57.5s\tremaining: 4m 4s\n",
      "38:\tlearn: 0.5901773\ttotal: 58.8s\tremaining: 4m 2s\n",
      "39:\tlearn: 0.5898949\ttotal: 1m\tremaining: 4m\n",
      "40:\tlearn: 0.5894724\ttotal: 1m 1s\tremaining: 3m 58s\n",
      "41:\tlearn: 0.5889278\ttotal: 1m 3s\tremaining: 3m 57s\n",
      "42:\tlearn: 0.5886616\ttotal: 1m 4s\tremaining: 3m 55s\n",
      "43:\tlearn: 0.5883850\ttotal: 1m 5s\tremaining: 3m 53s\n",
      "44:\tlearn: 0.5880676\ttotal: 1m 7s\tremaining: 3m 51s\n",
      "45:\tlearn: 0.5877412\ttotal: 1m 8s\tremaining: 3m 49s\n",
      "46:\tlearn: 0.5874111\ttotal: 1m 9s\tremaining: 3m 47s\n",
      "47:\tlearn: 0.5870531\ttotal: 1m 11s\tremaining: 3m 46s\n",
      "48:\tlearn: 0.5867009\ttotal: 1m 12s\tremaining: 3m 44s\n",
      "49:\tlearn: 0.5862864\ttotal: 1m 14s\tremaining: 3m 42s\n",
      "50:\tlearn: 0.5859618\ttotal: 1m 15s\tremaining: 3m 41s\n",
      "51:\tlearn: 0.5856214\ttotal: 1m 17s\tremaining: 3m 39s\n",
      "52:\tlearn: 0.5853230\ttotal: 1m 18s\tremaining: 3m 37s\n",
      "53:\tlearn: 0.5849438\ttotal: 1m 20s\tremaining: 3m 36s\n",
      "54:\tlearn: 0.5844830\ttotal: 1m 21s\tremaining: 3m 35s\n",
      "55:\tlearn: 0.5839362\ttotal: 1m 23s\tremaining: 3m 34s\n",
      "56:\tlearn: 0.5836772\ttotal: 1m 24s\tremaining: 3m 32s\n",
      "57:\tlearn: 0.5833221\ttotal: 1m 26s\tremaining: 3m 30s\n",
      "58:\tlearn: 0.5828654\ttotal: 1m 27s\tremaining: 3m 29s\n",
      "59:\tlearn: 0.5825892\ttotal: 1m 29s\tremaining: 3m 28s\n",
      "60:\tlearn: 0.5821593\ttotal: 1m 30s\tremaining: 3m 27s\n",
      "61:\tlearn: 0.5818463\ttotal: 1m 33s\tremaining: 3m 28s\n",
      "62:\tlearn: 0.5814814\ttotal: 1m 36s\tremaining: 3m 29s\n",
      "63:\tlearn: 0.5811982\ttotal: 1m 39s\tremaining: 3m 30s\n",
      "64:\tlearn: 0.5808779\ttotal: 1m 42s\tremaining: 3m 31s\n",
      "65:\tlearn: 0.5803666\ttotal: 1m 45s\tremaining: 3m 33s\n",
      "66:\tlearn: 0.5801537\ttotal: 1m 48s\tremaining: 3m 34s\n",
      "67:\tlearn: 0.5797562\ttotal: 1m 50s\tremaining: 3m 35s\n",
      "68:\tlearn: 0.5794957\ttotal: 1m 53s\tremaining: 3m 35s\n",
      "69:\tlearn: 0.5790187\ttotal: 1m 56s\tremaining: 3m 36s\n",
      "70:\tlearn: 0.5787514\ttotal: 1m 58s\tremaining: 3m 35s\n",
      "71:\tlearn: 0.5784494\ttotal: 2m 1s\tremaining: 3m 35s\n",
      "72:\tlearn: 0.5781550\ttotal: 2m 3s\tremaining: 3m 35s\n",
      "73:\tlearn: 0.5777920\ttotal: 2m 6s\tremaining: 3m 35s\n",
      "74:\tlearn: 0.5773670\ttotal: 2m 11s\tremaining: 3m 38s\n",
      "75:\tlearn: 0.5771142\ttotal: 2m 16s\tremaining: 3m 43s\n",
      "76:\tlearn: 0.5768456\ttotal: 2m 23s\tremaining: 3m 49s\n",
      "77:\tlearn: 0.5765759\ttotal: 2m 29s\tremaining: 3m 54s\n",
      "78:\tlearn: 0.5762323\ttotal: 2m 34s\tremaining: 3m 57s\n",
      "79:\tlearn: 0.5760019\ttotal: 2m 37s\tremaining: 3m 56s\n",
      "80:\tlearn: 0.5757641\ttotal: 2m 40s\tremaining: 3m 55s\n",
      "81:\tlearn: 0.5752411\ttotal: 2m 41s\tremaining: 3m 52s\n",
      "82:\tlearn: 0.5749251\ttotal: 2m 43s\tremaining: 3m 50s\n",
      "83:\tlearn: 0.5746413\ttotal: 2m 47s\tremaining: 3m 50s\n",
      "84:\tlearn: 0.5743654\ttotal: 2m 53s\tremaining: 3m 54s\n",
      "85:\tlearn: 0.5739869\ttotal: 3m\tremaining: 3m 58s\n",
      "86:\tlearn: 0.5736406\ttotal: 3m 8s\tremaining: 4m 5s\n",
      "87:\tlearn: 0.5733997\ttotal: 3m 15s\tremaining: 4m 8s\n",
      "88:\tlearn: 0.5731754\ttotal: 3m 22s\tremaining: 4m 11s\n",
      "89:\tlearn: 0.5724965\ttotal: 3m 29s\tremaining: 4m 16s\n",
      "90:\tlearn: 0.5722689\ttotal: 3m 36s\tremaining: 4m 19s\n",
      "91:\tlearn: 0.5717601\ttotal: 3m 43s\tremaining: 4m 22s\n",
      "92:\tlearn: 0.5714001\ttotal: 3m 50s\tremaining: 4m 25s\n",
      "93:\tlearn: 0.5711117\ttotal: 3m 58s\tremaining: 4m 29s\n",
      "94:\tlearn: 0.5707865\ttotal: 4m 5s\tremaining: 4m 31s\n",
      "95:\tlearn: 0.5704962\ttotal: 4m 12s\tremaining: 4m 33s\n",
      "96:\tlearn: 0.5701643\ttotal: 4m 19s\tremaining: 4m 35s\n",
      "97:\tlearn: 0.5697837\ttotal: 4m 26s\tremaining: 4m 37s\n",
      "98:\tlearn: 0.5694658\ttotal: 4m 33s\tremaining: 4m 38s\n",
      "99:\tlearn: 0.5691896\ttotal: 4m 40s\tremaining: 4m 40s\n",
      "100:\tlearn: 0.5689888\ttotal: 4m 47s\tremaining: 4m 41s\n",
      "101:\tlearn: 0.5685736\ttotal: 4m 54s\tremaining: 4m 43s\n",
      "102:\tlearn: 0.5681157\ttotal: 5m 2s\tremaining: 4m 44s\n",
      "103:\tlearn: 0.5677066\ttotal: 5m 9s\tremaining: 4m 45s\n",
      "104:\tlearn: 0.5673983\ttotal: 5m 16s\tremaining: 4m 46s\n",
      "105:\tlearn: 0.5671571\ttotal: 5m 23s\tremaining: 4m 46s\n",
      "106:\tlearn: 0.5664308\ttotal: 5m 31s\tremaining: 4m 48s\n",
      "107:\tlearn: 0.5661960\ttotal: 5m 38s\tremaining: 4m 48s\n",
      "108:\tlearn: 0.5658918\ttotal: 5m 45s\tremaining: 4m 48s\n",
      "109:\tlearn: 0.5654213\ttotal: 5m 53s\tremaining: 4m 48s\n",
      "110:\tlearn: 0.5651591\ttotal: 6m\tremaining: 4m 49s\n",
      "111:\tlearn: 0.5649042\ttotal: 6m 6s\tremaining: 4m 48s\n",
      "112:\tlearn: 0.5644994\ttotal: 6m 13s\tremaining: 4m 47s\n",
      "113:\tlearn: 0.5641267\ttotal: 6m 21s\tremaining: 4m 47s\n",
      "114:\tlearn: 0.5639500\ttotal: 6m 27s\tremaining: 4m 46s\n",
      "115:\tlearn: 0.5636188\ttotal: 6m 34s\tremaining: 4m 45s\n",
      "116:\tlearn: 0.5633909\ttotal: 6m 41s\tremaining: 4m 44s\n",
      "117:\tlearn: 0.5630838\ttotal: 6m 49s\tremaining: 4m 44s\n",
      "118:\tlearn: 0.5628148\ttotal: 6m 56s\tremaining: 4m 43s\n",
      "119:\tlearn: 0.5626317\ttotal: 7m 2s\tremaining: 4m 41s\n",
      "120:\tlearn: 0.5623975\ttotal: 7m 10s\tremaining: 4m 40s\n",
      "121:\tlearn: 0.5621348\ttotal: 7m 17s\tremaining: 4m 39s\n",
      "122:\tlearn: 0.5618852\ttotal: 7m 23s\tremaining: 4m 37s\n",
      "123:\tlearn: 0.5615539\ttotal: 7m 31s\tremaining: 4m 36s\n",
      "124:\tlearn: 0.5612139\ttotal: 7m 39s\tremaining: 4m 35s\n",
      "125:\tlearn: 0.5607134\ttotal: 7m 46s\tremaining: 4m 34s\n",
      "126:\tlearn: 0.5603532\ttotal: 7m 54s\tremaining: 4m 32s\n",
      "127:\tlearn: 0.5599246\ttotal: 8m 1s\tremaining: 4m 30s\n",
      "128:\tlearn: 0.5595552\ttotal: 8m 9s\tremaining: 4m 29s\n",
      "129:\tlearn: 0.5593293\ttotal: 8m 16s\tremaining: 4m 27s\n",
      "130:\tlearn: 0.5589647\ttotal: 8m 23s\tremaining: 4m 25s\n",
      "131:\tlearn: 0.5587692\ttotal: 8m 29s\tremaining: 4m 22s\n",
      "132:\tlearn: 0.5584178\ttotal: 8m 37s\tremaining: 4m 20s\n",
      "133:\tlearn: 0.5581677\ttotal: 8m 43s\tremaining: 4m 18s\n",
      "134:\tlearn: 0.5579752\ttotal: 8m 51s\tremaining: 4m 15s\n",
      "135:\tlearn: 0.5577166\ttotal: 8m 59s\tremaining: 4m 13s\n",
      "136:\tlearn: 0.5573276\ttotal: 9m 7s\tremaining: 4m 11s\n",
      "137:\tlearn: 0.5570997\ttotal: 9m 13s\tremaining: 4m 8s\n",
      "138:\tlearn: 0.5566480\ttotal: 9m 20s\tremaining: 4m 6s\n",
      "139:\tlearn: 0.5562658\ttotal: 9m 28s\tremaining: 4m 3s\n",
      "140:\tlearn: 0.5559159\ttotal: 9m 35s\tremaining: 4m\n",
      "141:\tlearn: 0.5556620\ttotal: 9m 43s\tremaining: 3m 58s\n",
      "142:\tlearn: 0.5553741\ttotal: 9m 49s\tremaining: 3m 55s\n",
      "143:\tlearn: 0.5549854\ttotal: 9m 56s\tremaining: 3m 51s\n",
      "144:\tlearn: 0.5546911\ttotal: 10m 2s\tremaining: 3m 48s\n",
      "145:\tlearn: 0.5543583\ttotal: 10m 9s\tremaining: 3m 45s\n",
      "146:\tlearn: 0.5539597\ttotal: 10m 16s\tremaining: 3m 42s\n",
      "147:\tlearn: 0.5536215\ttotal: 10m 23s\tremaining: 3m 39s\n",
      "148:\tlearn: 0.5532585\ttotal: 10m 30s\tremaining: 3m 35s\n",
      "149:\tlearn: 0.5527782\ttotal: 10m 38s\tremaining: 3m 32s\n",
      "150:\tlearn: 0.5524498\ttotal: 10m 45s\tremaining: 3m 29s\n",
      "151:\tlearn: 0.5521180\ttotal: 10m 52s\tremaining: 3m 26s\n",
      "152:\tlearn: 0.5517925\ttotal: 10m 59s\tremaining: 3m 22s\n",
      "153:\tlearn: 0.5514365\ttotal: 11m 5s\tremaining: 3m 18s\n",
      "154:\tlearn: 0.5511856\ttotal: 11m 12s\tremaining: 3m 15s\n",
      "155:\tlearn: 0.5507722\ttotal: 11m 19s\tremaining: 3m 11s\n",
      "156:\tlearn: 0.5503923\ttotal: 11m 26s\tremaining: 3m 8s\n",
      "157:\tlearn: 0.5500128\ttotal: 11m 35s\tremaining: 3m 4s\n",
      "158:\tlearn: 0.5494728\ttotal: 11m 42s\tremaining: 3m 1s\n",
      "159:\tlearn: 0.5491478\ttotal: 11m 49s\tremaining: 2m 57s\n",
      "160:\tlearn: 0.5486895\ttotal: 11m 56s\tremaining: 2m 53s\n",
      "161:\tlearn: 0.5482414\ttotal: 12m 4s\tremaining: 2m 49s\n",
      "162:\tlearn: 0.5479944\ttotal: 12m 11s\tremaining: 2m 45s\n",
      "163:\tlearn: 0.5477657\ttotal: 12m 17s\tremaining: 2m 41s\n",
      "164:\tlearn: 0.5474151\ttotal: 12m 25s\tremaining: 2m 38s\n",
      "165:\tlearn: 0.5470683\ttotal: 12m 32s\tremaining: 2m 34s\n",
      "166:\tlearn: 0.5465617\ttotal: 12m 39s\tremaining: 2m 30s\n",
      "167:\tlearn: 0.5462099\ttotal: 12m 47s\tremaining: 2m 26s\n",
      "168:\tlearn: 0.5458949\ttotal: 12m 53s\tremaining: 2m 21s\n",
      "169:\tlearn: 0.5454082\ttotal: 13m 1s\tremaining: 2m 17s\n",
      "170:\tlearn: 0.5449051\ttotal: 13m 9s\tremaining: 2m 13s\n",
      "171:\tlearn: 0.5446601\ttotal: 13m 15s\tremaining: 2m 9s\n",
      "172:\tlearn: 0.5442244\ttotal: 13m 22s\tremaining: 2m 5s\n",
      "173:\tlearn: 0.5439173\ttotal: 13m 29s\tremaining: 2m 1s\n",
      "174:\tlearn: 0.5435204\ttotal: 13m 37s\tremaining: 1m 56s\n",
      "175:\tlearn: 0.5432758\ttotal: 13m 44s\tremaining: 1m 52s\n",
      "176:\tlearn: 0.5428574\ttotal: 13m 51s\tremaining: 1m 48s\n",
      "177:\tlearn: 0.5424471\ttotal: 13m 58s\tremaining: 1m 43s\n",
      "178:\tlearn: 0.5419978\ttotal: 14m 5s\tremaining: 1m 39s\n",
      "179:\tlearn: 0.5416141\ttotal: 14m 12s\tremaining: 1m 34s\n",
      "180:\tlearn: 0.5411416\ttotal: 14m 19s\tremaining: 1m 30s\n",
      "181:\tlearn: 0.5407039\ttotal: 14m 26s\tremaining: 1m 25s\n",
      "182:\tlearn: 0.5403313\ttotal: 14m 34s\tremaining: 1m 21s\n",
      "183:\tlearn: 0.5399936\ttotal: 14m 40s\tremaining: 1m 16s\n",
      "184:\tlearn: 0.5395404\ttotal: 14m 47s\tremaining: 1m 11s\n",
      "185:\tlearn: 0.5391190\ttotal: 14m 55s\tremaining: 1m 7s\n",
      "186:\tlearn: 0.5387878\ttotal: 15m 1s\tremaining: 1m 2s\n",
      "187:\tlearn: 0.5385599\ttotal: 15m 8s\tremaining: 58s\n",
      "188:\tlearn: 0.5381627\ttotal: 15m 15s\tremaining: 53.3s\n",
      "189:\tlearn: 0.5376921\ttotal: 15m 22s\tremaining: 48.6s\n",
      "190:\tlearn: 0.5373275\ttotal: 15m 30s\tremaining: 43.8s\n",
      "191:\tlearn: 0.5370063\ttotal: 15m 37s\tremaining: 39.1s\n",
      "192:\tlearn: 0.5367211\ttotal: 15m 43s\tremaining: 34.2s\n",
      "193:\tlearn: 0.5363512\ttotal: 15m 52s\tremaining: 29.4s\n",
      "194:\tlearn: 0.5359157\ttotal: 15m 59s\tremaining: 24.6s\n",
      "195:\tlearn: 0.5355856\ttotal: 16m 6s\tremaining: 19.7s\n",
      "196:\tlearn: 0.5352745\ttotal: 16m 12s\tremaining: 14.8s\n",
      "197:\tlearn: 0.5348820\ttotal: 16m 21s\tremaining: 9.91s\n",
      "198:\tlearn: 0.5345967\ttotal: 16m 28s\tremaining: 4.96s\n",
      "199:\tlearn: 0.5341362\ttotal: 16m 35s\tremaining: 0us\n"
     ]
    },
    {
     "data": {
      "text/plain": [
       "<catboost.core.CatBoostClassifier at 0x1ffb0ef4c20>"
      ]
     },
     "execution_count": 27,
     "metadata": {},
     "output_type": "execute_result"
    }
   ],
   "execution_count": 27
  },
  {
   "cell_type": "code",
   "source": [
    "from sklearn.metrics import accuracy_score, f1_score, precision_score, recall_score\n",
    "\n",
    "pred = model.predict(X_test)\n",
    "accuracy_score(y_test, pred), f1_score(y_test, pred), precision_score(y_test, pred), recall_score(y_test, pred)"
   ],
   "metadata": {
    "collapsed": false,
    "ExecuteTime": {
     "end_time": "2025-02-06T15:10:57.717731Z",
     "start_time": "2025-02-06T15:10:56.714130Z"
    }
   },
   "outputs": [
    {
     "data": {
      "text/plain": [
       "(0.7349556000566377, 0.8378251263993663, 0.8074876835538166, 0.870531121399177)"
      ]
     },
     "execution_count": 28,
     "metadata": {},
     "output_type": "execute_result"
    }
   ],
   "execution_count": 28
  }
 ],
 "metadata": {
  "colab": {
   "provenance": []
  },
  "kernelspec": {
   "display_name": "conda_env1",
   "language": "python",
   "name": "python3"
  },
  "language_info": {
   "codemirror_mode": {
    "name": "ipython",
    "version": 3
   },
   "file_extension": ".py",
   "mimetype": "text/x-python",
   "name": "python",
   "nbconvert_exporter": "python",
   "pygments_lexer": "ipython3",
   "version": "3.12.4"
  }
 },
 "nbformat": 4,
 "nbformat_minor": 0
}
