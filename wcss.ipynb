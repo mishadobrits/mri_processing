{
 "cells": [
  {
   "cell_type": "code",
   "metadata": {
    "colab": {
     "base_uri": "https://localhost:8080/"
    },
    "id": "_m1DuU63mrbo",
    "outputId": "dad37c77-7a64-4916-c1b3-6bd8815f9c78",
    "ExecuteTime": {
     "end_time": "2025-02-04T16:45:21.048945Z",
     "start_time": "2025-02-04T16:45:21.039850Z"
    }
   },
   "source": "",
   "outputs": [],
   "execution_count": null
  },
  {
   "cell_type": "code",
   "metadata": {
    "colab": {
     "base_uri": "https://localhost:8080/"
    },
    "id": "Smp6HUSQmtQa",
    "outputId": "c76bd88f-023b-4612-b178-856c77971567",
    "ExecuteTime": {
     "end_time": "2025-02-04T16:45:22.200516Z",
     "start_time": "2025-02-04T16:45:22.192678Z"
    }
   },
   "source": "",
   "outputs": [],
   "execution_count": null
  },
  {
   "cell_type": "code",
   "metadata": {
    "colab": {
     "base_uri": "https://localhost:8080/"
    },
    "id": "1Tt0ghctmx1e",
    "outputId": "0695f972-12bb-43c9-fe5f-3370e61d19b4",
    "ExecuteTime": {
     "end_time": "2025-02-05T11:19:19.397878Z",
     "start_time": "2025-02-05T11:19:12.306161Z"
    }
   },
   "source": [
    "data = {}\n",
    "\n",
    "path_to_data = r'all_time-series/ts_cut'\n",
    "\n",
    "import os\n",
    "import numpy as np\n",
    "import re\n",
    "\n",
    "parser_regex = r'(ihb|china|rmet)_(open|close)_strategy-(\\d)_(GSR|noGSR).npy'\n",
    "extractor = re.compile(parser_regex)\n",
    "\n",
    "items = {atlas_name : {dataset_name : []\n",
    "                       for dataset_name in ['china', 'ihb', 'rmet']}\n",
    "         for atlas_name in ['HCPex', 'Brainnetome', 'AAL', 'Schaefer200']}\n",
    "\n",
    "for root, dirs, files in os.walk(path_to_data):\n",
    "    for file in files:\n",
    "        atlas = root.split(os.sep)[1]\n",
    "        source = root.split(os.sep)[2]\n",
    "        items[atlas][source].append(np.load(os.path.join(root, file)))"
   ],
   "outputs": [],
   "execution_count": 2
  },
  {
   "metadata": {},
   "cell_type": "markdown",
   "source": ""
  },
  {
   "metadata": {},
   "cell_type": "code",
   "outputs": [],
   "execution_count": null,
   "source": ""
  },
  {
   "cell_type": "code",
   "metadata": {
    "ExecuteTime": {
     "end_time": "2025-02-04T20:24:39.052571Z",
     "start_time": "2025-02-04T20:24:39.006992Z"
    }
   },
   "source": [
    "items['AAL']['rmet'][0][0].shape"
   ],
   "outputs": [
    {
     "data": {
      "text/plain": [
       "(120, 116)"
      ]
     },
     "execution_count": 3,
     "metadata": {},
     "output_type": "execute_result"
    }
   ],
   "execution_count": 3
  },
  {
   "cell_type": "code",
   "metadata": {
    "ExecuteTime": {
     "end_time": "2025-02-04T20:24:45.440049Z",
     "start_time": "2025-02-04T20:24:45.430634Z"
    }
   },
   "source": [
    "len(items['AAL']['rmet'][0])"
   ],
   "outputs": [
    {
     "data": {
      "text/plain": [
       "63"
      ]
     },
     "execution_count": 4,
     "metadata": {},
     "output_type": "execute_result"
    }
   ],
   "execution_count": 4
  },
  {
   "cell_type": "code",
   "metadata": {
    "ExecuteTime": {
     "end_time": "2025-02-04T20:24:51.756805Z",
     "start_time": "2025-02-04T20:24:47.687968Z"
    }
   },
   "source": [
    "import pandas as pd\n",
    "import numpy as np\n",
    "from itertools import combinations, product\n",
    "\n",
    "data_dif = np.empty((539028, 121))\n",
    "data_same = np.empty((36288, 121))\n",
    "at = 'AAL'\n",
    "db = 'rmet'\n",
    "i = 0\n",
    "\n",
    "for person1, person2 in combinations(range(len(items[at][db][0])), r=2):\n",
    "    for teg1, teg2 in combinations(range(len(items[at][db])), r=2):\n",
    "        a = items[at][db][teg1][person1][:, 0]\n",
    "        b = items[at][db][teg2][person2][:, 0]\n",
    "        data_dif[i] = np.hstack([a - b, np.array([0])])\n",
    "        i += 1\n",
    "\n",
    "i = 0\n",
    "for person in range(len(items[at][db][0])):\n",
    "    for teg1, teg2 in product(range(len(items[at][db])), repeat=2):\n",
    "        a = items[at][db][teg1][person][:, 0]\n",
    "        b = items[at][db][teg2][person][:, 0]\n",
    "        data_same[i] = np.hstack([a - b, np.array([1])])\n",
    "\n",
    "        i += 1"
   ],
   "outputs": [],
   "execution_count": 5
  },
  {
   "cell_type": "code",
   "metadata": {
    "ExecuteTime": {
     "end_time": "2025-02-04T20:24:54.168562Z",
     "start_time": "2025-02-04T20:24:54.064101Z"
    }
   },
   "source": [
    "data = np.vstack([data_dif, data_same])"
   ],
   "outputs": [],
   "execution_count": 6
  },
  {
   "cell_type": "code",
   "metadata": {
    "ExecuteTime": {
     "end_time": "2025-02-04T20:24:58.872877Z",
     "start_time": "2025-02-04T20:24:58.203495Z"
    }
   },
   "source": [
    "df = pd.DataFrame(data)\n",
    "df = df.sample(frac=1).reset_index(drop=True)"
   ],
   "outputs": [],
   "execution_count": 7
  },
  {
   "cell_type": "code",
   "metadata": {
    "ExecuteTime": {
     "end_time": "2025-02-04T20:25:05.579828Z",
     "start_time": "2025-02-04T20:25:05.553397Z"
    }
   },
   "source": [
    "df.head()"
   ],
   "outputs": [
    {
     "data": {
      "text/plain": [
       "        0         1         2         3         4         5         6    \\\n",
       "0 -3.003502  1.878287  1.535319 -1.500392 -0.207987  0.914486  0.085258   \n",
       "1  0.900279 -0.621754  0.985660 -0.162371  1.072526 -0.142804  0.465783   \n",
       "2 -0.421223  0.653929  0.160793  0.169228  0.415801 -1.340829  0.160518   \n",
       "3 -0.299937  0.220088  0.101969 -0.394103  0.789188 -0.244584 -0.053282   \n",
       "4  0.702079 -0.404777 -0.244475 -0.305849 -0.479297  1.185957 -0.243024   \n",
       "\n",
       "        7         8         9    ...       111       112       113       114  \\\n",
       "0  0.408476  1.452729 -0.381543  ...  0.095940  1.382500 -0.050616 -0.007309   \n",
       "1 -1.161812  0.219893  0.478300  ...  1.027404  0.077074 -0.144718  0.972101   \n",
       "2 -0.380446  0.271283 -0.412296  ... -0.022526 -0.897641 -0.040877 -0.095517   \n",
       "3 -0.523696 -0.152756 -0.446880  ...  0.309457 -0.417669 -0.199900  0.605009   \n",
       "4 -0.007748  1.124543 -0.620684  ...  0.184112 -0.559548  0.382745 -0.172631   \n",
       "\n",
       "        115       116       117       118       119  120  \n",
       "0  0.373965  2.982292 -0.244443 -0.968617  0.060165  0.0  \n",
       "1  1.548311 -0.857258 -1.052086  1.059391  0.691820  0.0  \n",
       "2  1.162218  0.051219 -0.018018  0.219148  1.562944  0.0  \n",
       "3 -0.694727  0.209619 -0.376558 -0.142171 -0.111320  1.0  \n",
       "4  0.283122 -0.163789  0.384479  0.228295  0.168419  0.0  \n",
       "\n",
       "[5 rows x 121 columns]"
      ],
      "text/html": [
       "<div>\n",
       "<style scoped>\n",
       "    .dataframe tbody tr th:only-of-type {\n",
       "        vertical-align: middle;\n",
       "    }\n",
       "\n",
       "    .dataframe tbody tr th {\n",
       "        vertical-align: top;\n",
       "    }\n",
       "\n",
       "    .dataframe thead th {\n",
       "        text-align: right;\n",
       "    }\n",
       "</style>\n",
       "<table border=\"1\" class=\"dataframe\">\n",
       "  <thead>\n",
       "    <tr style=\"text-align: right;\">\n",
       "      <th></th>\n",
       "      <th>0</th>\n",
       "      <th>1</th>\n",
       "      <th>2</th>\n",
       "      <th>3</th>\n",
       "      <th>4</th>\n",
       "      <th>5</th>\n",
       "      <th>6</th>\n",
       "      <th>7</th>\n",
       "      <th>8</th>\n",
       "      <th>9</th>\n",
       "      <th>...</th>\n",
       "      <th>111</th>\n",
       "      <th>112</th>\n",
       "      <th>113</th>\n",
       "      <th>114</th>\n",
       "      <th>115</th>\n",
       "      <th>116</th>\n",
       "      <th>117</th>\n",
       "      <th>118</th>\n",
       "      <th>119</th>\n",
       "      <th>120</th>\n",
       "    </tr>\n",
       "  </thead>\n",
       "  <tbody>\n",
       "    <tr>\n",
       "      <th>0</th>\n",
       "      <td>-3.003502</td>\n",
       "      <td>1.878287</td>\n",
       "      <td>1.535319</td>\n",
       "      <td>-1.500392</td>\n",
       "      <td>-0.207987</td>\n",
       "      <td>0.914486</td>\n",
       "      <td>0.085258</td>\n",
       "      <td>0.408476</td>\n",
       "      <td>1.452729</td>\n",
       "      <td>-0.381543</td>\n",
       "      <td>...</td>\n",
       "      <td>0.095940</td>\n",
       "      <td>1.382500</td>\n",
       "      <td>-0.050616</td>\n",
       "      <td>-0.007309</td>\n",
       "      <td>0.373965</td>\n",
       "      <td>2.982292</td>\n",
       "      <td>-0.244443</td>\n",
       "      <td>-0.968617</td>\n",
       "      <td>0.060165</td>\n",
       "      <td>0.0</td>\n",
       "    </tr>\n",
       "    <tr>\n",
       "      <th>1</th>\n",
       "      <td>0.900279</td>\n",
       "      <td>-0.621754</td>\n",
       "      <td>0.985660</td>\n",
       "      <td>-0.162371</td>\n",
       "      <td>1.072526</td>\n",
       "      <td>-0.142804</td>\n",
       "      <td>0.465783</td>\n",
       "      <td>-1.161812</td>\n",
       "      <td>0.219893</td>\n",
       "      <td>0.478300</td>\n",
       "      <td>...</td>\n",
       "      <td>1.027404</td>\n",
       "      <td>0.077074</td>\n",
       "      <td>-0.144718</td>\n",
       "      <td>0.972101</td>\n",
       "      <td>1.548311</td>\n",
       "      <td>-0.857258</td>\n",
       "      <td>-1.052086</td>\n",
       "      <td>1.059391</td>\n",
       "      <td>0.691820</td>\n",
       "      <td>0.0</td>\n",
       "    </tr>\n",
       "    <tr>\n",
       "      <th>2</th>\n",
       "      <td>-0.421223</td>\n",
       "      <td>0.653929</td>\n",
       "      <td>0.160793</td>\n",
       "      <td>0.169228</td>\n",
       "      <td>0.415801</td>\n",
       "      <td>-1.340829</td>\n",
       "      <td>0.160518</td>\n",
       "      <td>-0.380446</td>\n",
       "      <td>0.271283</td>\n",
       "      <td>-0.412296</td>\n",
       "      <td>...</td>\n",
       "      <td>-0.022526</td>\n",
       "      <td>-0.897641</td>\n",
       "      <td>-0.040877</td>\n",
       "      <td>-0.095517</td>\n",
       "      <td>1.162218</td>\n",
       "      <td>0.051219</td>\n",
       "      <td>-0.018018</td>\n",
       "      <td>0.219148</td>\n",
       "      <td>1.562944</td>\n",
       "      <td>0.0</td>\n",
       "    </tr>\n",
       "    <tr>\n",
       "      <th>3</th>\n",
       "      <td>-0.299937</td>\n",
       "      <td>0.220088</td>\n",
       "      <td>0.101969</td>\n",
       "      <td>-0.394103</td>\n",
       "      <td>0.789188</td>\n",
       "      <td>-0.244584</td>\n",
       "      <td>-0.053282</td>\n",
       "      <td>-0.523696</td>\n",
       "      <td>-0.152756</td>\n",
       "      <td>-0.446880</td>\n",
       "      <td>...</td>\n",
       "      <td>0.309457</td>\n",
       "      <td>-0.417669</td>\n",
       "      <td>-0.199900</td>\n",
       "      <td>0.605009</td>\n",
       "      <td>-0.694727</td>\n",
       "      <td>0.209619</td>\n",
       "      <td>-0.376558</td>\n",
       "      <td>-0.142171</td>\n",
       "      <td>-0.111320</td>\n",
       "      <td>1.0</td>\n",
       "    </tr>\n",
       "    <tr>\n",
       "      <th>4</th>\n",
       "      <td>0.702079</td>\n",
       "      <td>-0.404777</td>\n",
       "      <td>-0.244475</td>\n",
       "      <td>-0.305849</td>\n",
       "      <td>-0.479297</td>\n",
       "      <td>1.185957</td>\n",
       "      <td>-0.243024</td>\n",
       "      <td>-0.007748</td>\n",
       "      <td>1.124543</td>\n",
       "      <td>-0.620684</td>\n",
       "      <td>...</td>\n",
       "      <td>0.184112</td>\n",
       "      <td>-0.559548</td>\n",
       "      <td>0.382745</td>\n",
       "      <td>-0.172631</td>\n",
       "      <td>0.283122</td>\n",
       "      <td>-0.163789</td>\n",
       "      <td>0.384479</td>\n",
       "      <td>0.228295</td>\n",
       "      <td>0.168419</td>\n",
       "      <td>0.0</td>\n",
       "    </tr>\n",
       "  </tbody>\n",
       "</table>\n",
       "<p>5 rows × 121 columns</p>\n",
       "</div>"
      ]
     },
     "execution_count": 8,
     "metadata": {},
     "output_type": "execute_result"
    }
   ],
   "execution_count": 8
  },
  {
   "cell_type": "code",
   "metadata": {
    "id": "YnsPYd48NPC9",
    "ExecuteTime": {
     "end_time": "2025-02-04T20:25:19.739745Z",
     "start_time": "2025-02-04T20:25:14.658958Z"
    }
   },
   "source": [
    "from sklearn.model_selection import train_test_split\n",
    "\n",
    "y = df[120]\n",
    "X = df.drop(120, axis=1)\n",
    "X_train, X_test, y_train, y_test = train_test_split(X, y, test_size=0.2, random_state=52)\n",
    "\n"
   ],
   "outputs": [],
   "execution_count": 9
  },
  {
   "cell_type": "code",
   "metadata": {
    "id": "nrQEBs1sR0N8",
    "ExecuteTime": {
     "end_time": "2025-02-04T20:27:21.266992Z",
     "start_time": "2025-02-04T20:27:20.810128Z"
    }
   },
   "source": "X_train, X_test, y_train, y_test = train_test_split(X, y, test_size=0.2, random_state=52)",
   "outputs": [],
   "execution_count": 10
  },
  {
   "cell_type": "code",
   "metadata": {
    "colab": {
     "base_uri": "https://localhost:8080/"
    },
    "id": "TIAgF3cIL0KK",
    "outputId": "7def9d71-9c7e-49a0-edb7-b0bed923890f",
    "ExecuteTime": {
     "end_time": "2025-02-04T20:27:28.076662Z",
     "start_time": "2025-02-04T20:27:24.665732Z"
    }
   },
   "source": [
    "!pip install catboost"
   ],
   "outputs": [
    {
     "name": "stdout",
     "output_type": "stream",
     "text": [
      "Requirement already satisfied: catboost in c:\\users\\user\\pycharmprojects\\fftilted1\\.venv\\lib\\site-packages (1.2.7)\n",
      "Requirement already satisfied: graphviz in c:\\users\\user\\pycharmprojects\\fftilted1\\.venv\\lib\\site-packages (from catboost) (0.20.3)\n",
      "Requirement already satisfied: matplotlib in c:\\users\\user\\pycharmprojects\\fftilted1\\.venv\\lib\\site-packages (from catboost) (3.10.0)\n",
      "Requirement already satisfied: numpy<2.0,>=1.16.0 in c:\\users\\user\\pycharmprojects\\fftilted1\\.venv\\lib\\site-packages (from catboost) (1.26.4)\n",
      "Requirement already satisfied: pandas>=0.24 in c:\\users\\user\\pycharmprojects\\fftilted1\\.venv\\lib\\site-packages (from catboost) (2.2.3)\n",
      "Requirement already satisfied: scipy in c:\\users\\user\\pycharmprojects\\fftilted1\\.venv\\lib\\site-packages (from catboost) (1.15.1)\n",
      "Requirement already satisfied: plotly in c:\\users\\user\\pycharmprojects\\fftilted1\\.venv\\lib\\site-packages (from catboost) (6.0.0)\n",
      "Requirement already satisfied: six in c:\\users\\user\\pycharmprojects\\fftilted1\\.venv\\lib\\site-packages (from catboost) (1.17.0)\n",
      "Requirement already satisfied: python-dateutil>=2.8.2 in c:\\users\\user\\pycharmprojects\\fftilted1\\.venv\\lib\\site-packages (from pandas>=0.24->catboost) (2.9.0.post0)\n",
      "Requirement already satisfied: pytz>=2020.1 in c:\\users\\user\\pycharmprojects\\fftilted1\\.venv\\lib\\site-packages (from pandas>=0.24->catboost) (2025.1)\n",
      "Requirement already satisfied: tzdata>=2022.7 in c:\\users\\user\\pycharmprojects\\fftilted1\\.venv\\lib\\site-packages (from pandas>=0.24->catboost) (2025.1)\n",
      "Requirement already satisfied: contourpy>=1.0.1 in c:\\users\\user\\pycharmprojects\\fftilted1\\.venv\\lib\\site-packages (from matplotlib->catboost) (1.3.1)\n",
      "Requirement already satisfied: cycler>=0.10 in c:\\users\\user\\pycharmprojects\\fftilted1\\.venv\\lib\\site-packages (from matplotlib->catboost) (0.12.1)\n",
      "Requirement already satisfied: fonttools>=4.22.0 in c:\\users\\user\\pycharmprojects\\fftilted1\\.venv\\lib\\site-packages (from matplotlib->catboost) (4.55.8)\n",
      "Requirement already satisfied: kiwisolver>=1.3.1 in c:\\users\\user\\pycharmprojects\\fftilted1\\.venv\\lib\\site-packages (from matplotlib->catboost) (1.4.8)\n",
      "Requirement already satisfied: packaging>=20.0 in c:\\users\\user\\pycharmprojects\\fftilted1\\.venv\\lib\\site-packages (from matplotlib->catboost) (24.2)\n",
      "Requirement already satisfied: pillow>=8 in c:\\users\\user\\pycharmprojects\\fftilted1\\.venv\\lib\\site-packages (from matplotlib->catboost) (11.1.0)\n",
      "Requirement already satisfied: pyparsing>=2.3.1 in c:\\users\\user\\pycharmprojects\\fftilted1\\.venv\\lib\\site-packages (from matplotlib->catboost) (3.2.1)\n",
      "Requirement already satisfied: narwhals>=1.15.1 in c:\\users\\user\\pycharmprojects\\fftilted1\\.venv\\lib\\site-packages (from plotly->catboost) (1.25.0)\n"
     ]
    }
   ],
   "execution_count": 11
  },
  {
   "cell_type": "code",
   "metadata": {
    "colab": {
     "base_uri": "https://localhost:8080/",
     "height": 424
    },
    "id": "RGz01jrmSf2m",
    "outputId": "3bbdfa44-c051-47a0-8a62-13a13a47a269",
    "ExecuteTime": {
     "end_time": "2025-02-04T20:31:56.365648Z",
     "start_time": "2025-02-04T20:31:56.308374Z"
    }
   },
   "source": [
    "X_train"
   ],
   "outputs": [
    {
     "data": {
      "text/plain": [
       "             0         1         2         3         4         5         6    \\\n",
       "260752  0.583944 -1.015498  0.732879 -0.320535  1.256087 -0.693871  0.302318   \n",
       "218513  2.139109 -0.618858  1.104771 -1.583593 -1.188435 -0.532143 -0.947943   \n",
       "75440   0.689509  0.697784  0.750714 -0.354101  0.296947 -0.916960  0.378102   \n",
       "213045  0.283929  1.117382  1.371201 -0.331522 -0.744142 -0.670464 -0.123713   \n",
       "538992 -0.009628  0.604509  1.346133  0.333306 -0.064746  0.669413 -1.115818   \n",
       "...          ...       ...       ...       ...       ...       ...       ...   \n",
       "129110  0.147928 -0.466450 -2.579195 -0.222997  0.492915  0.010183  0.228875   \n",
       "331927  1.964038 -1.154690  1.389507 -0.872590  0.576683  0.163802 -1.885467   \n",
       "56845  -1.050082  0.985872  0.534926 -0.390432 -0.241222  0.674184 -0.182511   \n",
       "566940  0.790158 -1.354795  0.631185 -0.346959 -0.998696 -0.362117  0.045769   \n",
       "482293  0.137536 -1.509833  0.185727 -0.419822 -0.013155  0.074295 -0.403996   \n",
       "\n",
       "             7         8         9    ...       110       111       112  \\\n",
       "260752 -0.097984  0.937791 -0.952656  ...  0.613364  0.700636 -0.424173   \n",
       "218513 -0.509780 -0.651631 -0.214661  ...  0.687799  0.297948 -0.226428   \n",
       "75440   0.495506  1.692924 -2.257425  ... -0.520608 -0.825182 -1.412857   \n",
       "213045 -0.285104 -0.811307  0.781710  ... -0.300893  0.334634 -0.480941   \n",
       "538992 -1.054347 -0.127921  0.638751  ...  0.562298 -0.723517 -0.312105   \n",
       "...          ...       ...       ...  ...       ...       ...       ...   \n",
       "129110  0.077775  0.334568 -0.346156  ...  0.375292  0.953185 -0.304342   \n",
       "331927  0.145740 -0.375998 -0.577524  ... -0.998480  0.352234 -0.908597   \n",
       "56845  -0.791589  0.737421 -0.622484  ...  0.164597  0.226782  0.295148   \n",
       "566940 -0.388163  0.364349 -0.305663  ...  0.234024  0.324400 -1.168460   \n",
       "482293 -0.508874  0.671119  0.147488  ...  0.514933 -0.927689 -0.011889   \n",
       "\n",
       "             113       114       115       116       117       118       119  \n",
       "260752  0.786628  0.275788 -0.646673 -0.556208  0.153778  0.330286  0.517063  \n",
       "218513 -0.098078  0.335033  0.349346  0.135021 -0.026104  0.241985 -0.826969  \n",
       "75440   0.024354 -0.567521 -0.084790 -0.791583  0.969596  0.223159 -0.040493  \n",
       "213045  0.295162 -0.239888 -1.020996  0.546621 -0.191714  0.806327 -0.289840  \n",
       "538992 -0.731291  1.053592  0.217672 -0.071452  0.498148  0.276974  0.280611  \n",
       "...          ...       ...       ...       ...       ...       ...       ...  \n",
       "129110 -0.407476  0.491738 -0.154852  0.547828 -0.943719  0.616819 -1.027851  \n",
       "331927  0.082418 -1.018967  0.352738 -0.311563 -2.071302  0.874419  0.836225  \n",
       "56845  -0.824317 -0.091623 -1.276609  0.790654  0.149580  0.134539 -1.001948  \n",
       "566940  0.082392  0.550801 -0.050250 -0.043080 -0.067701 -0.121221 -1.388965  \n",
       "482293  0.086910 -1.155702 -1.125949 -1.477337  1.330051  0.401738 -0.658753  \n",
       "\n",
       "[402721 rows x 120 columns]"
      ],
      "text/html": [
       "<div>\n",
       "<style scoped>\n",
       "    .dataframe tbody tr th:only-of-type {\n",
       "        vertical-align: middle;\n",
       "    }\n",
       "\n",
       "    .dataframe tbody tr th {\n",
       "        vertical-align: top;\n",
       "    }\n",
       "\n",
       "    .dataframe thead th {\n",
       "        text-align: right;\n",
       "    }\n",
       "</style>\n",
       "<table border=\"1\" class=\"dataframe\">\n",
       "  <thead>\n",
       "    <tr style=\"text-align: right;\">\n",
       "      <th></th>\n",
       "      <th>0</th>\n",
       "      <th>1</th>\n",
       "      <th>2</th>\n",
       "      <th>3</th>\n",
       "      <th>4</th>\n",
       "      <th>5</th>\n",
       "      <th>6</th>\n",
       "      <th>7</th>\n",
       "      <th>8</th>\n",
       "      <th>9</th>\n",
       "      <th>...</th>\n",
       "      <th>110</th>\n",
       "      <th>111</th>\n",
       "      <th>112</th>\n",
       "      <th>113</th>\n",
       "      <th>114</th>\n",
       "      <th>115</th>\n",
       "      <th>116</th>\n",
       "      <th>117</th>\n",
       "      <th>118</th>\n",
       "      <th>119</th>\n",
       "    </tr>\n",
       "  </thead>\n",
       "  <tbody>\n",
       "    <tr>\n",
       "      <th>260752</th>\n",
       "      <td>0.583944</td>\n",
       "      <td>-1.015498</td>\n",
       "      <td>0.732879</td>\n",
       "      <td>-0.320535</td>\n",
       "      <td>1.256087</td>\n",
       "      <td>-0.693871</td>\n",
       "      <td>0.302318</td>\n",
       "      <td>-0.097984</td>\n",
       "      <td>0.937791</td>\n",
       "      <td>-0.952656</td>\n",
       "      <td>...</td>\n",
       "      <td>0.613364</td>\n",
       "      <td>0.700636</td>\n",
       "      <td>-0.424173</td>\n",
       "      <td>0.786628</td>\n",
       "      <td>0.275788</td>\n",
       "      <td>-0.646673</td>\n",
       "      <td>-0.556208</td>\n",
       "      <td>0.153778</td>\n",
       "      <td>0.330286</td>\n",
       "      <td>0.517063</td>\n",
       "    </tr>\n",
       "    <tr>\n",
       "      <th>218513</th>\n",
       "      <td>2.139109</td>\n",
       "      <td>-0.618858</td>\n",
       "      <td>1.104771</td>\n",
       "      <td>-1.583593</td>\n",
       "      <td>-1.188435</td>\n",
       "      <td>-0.532143</td>\n",
       "      <td>-0.947943</td>\n",
       "      <td>-0.509780</td>\n",
       "      <td>-0.651631</td>\n",
       "      <td>-0.214661</td>\n",
       "      <td>...</td>\n",
       "      <td>0.687799</td>\n",
       "      <td>0.297948</td>\n",
       "      <td>-0.226428</td>\n",
       "      <td>-0.098078</td>\n",
       "      <td>0.335033</td>\n",
       "      <td>0.349346</td>\n",
       "      <td>0.135021</td>\n",
       "      <td>-0.026104</td>\n",
       "      <td>0.241985</td>\n",
       "      <td>-0.826969</td>\n",
       "    </tr>\n",
       "    <tr>\n",
       "      <th>75440</th>\n",
       "      <td>0.689509</td>\n",
       "      <td>0.697784</td>\n",
       "      <td>0.750714</td>\n",
       "      <td>-0.354101</td>\n",
       "      <td>0.296947</td>\n",
       "      <td>-0.916960</td>\n",
       "      <td>0.378102</td>\n",
       "      <td>0.495506</td>\n",
       "      <td>1.692924</td>\n",
       "      <td>-2.257425</td>\n",
       "      <td>...</td>\n",
       "      <td>-0.520608</td>\n",
       "      <td>-0.825182</td>\n",
       "      <td>-1.412857</td>\n",
       "      <td>0.024354</td>\n",
       "      <td>-0.567521</td>\n",
       "      <td>-0.084790</td>\n",
       "      <td>-0.791583</td>\n",
       "      <td>0.969596</td>\n",
       "      <td>0.223159</td>\n",
       "      <td>-0.040493</td>\n",
       "    </tr>\n",
       "    <tr>\n",
       "      <th>213045</th>\n",
       "      <td>0.283929</td>\n",
       "      <td>1.117382</td>\n",
       "      <td>1.371201</td>\n",
       "      <td>-0.331522</td>\n",
       "      <td>-0.744142</td>\n",
       "      <td>-0.670464</td>\n",
       "      <td>-0.123713</td>\n",
       "      <td>-0.285104</td>\n",
       "      <td>-0.811307</td>\n",
       "      <td>0.781710</td>\n",
       "      <td>...</td>\n",
       "      <td>-0.300893</td>\n",
       "      <td>0.334634</td>\n",
       "      <td>-0.480941</td>\n",
       "      <td>0.295162</td>\n",
       "      <td>-0.239888</td>\n",
       "      <td>-1.020996</td>\n",
       "      <td>0.546621</td>\n",
       "      <td>-0.191714</td>\n",
       "      <td>0.806327</td>\n",
       "      <td>-0.289840</td>\n",
       "    </tr>\n",
       "    <tr>\n",
       "      <th>538992</th>\n",
       "      <td>-0.009628</td>\n",
       "      <td>0.604509</td>\n",
       "      <td>1.346133</td>\n",
       "      <td>0.333306</td>\n",
       "      <td>-0.064746</td>\n",
       "      <td>0.669413</td>\n",
       "      <td>-1.115818</td>\n",
       "      <td>-1.054347</td>\n",
       "      <td>-0.127921</td>\n",
       "      <td>0.638751</td>\n",
       "      <td>...</td>\n",
       "      <td>0.562298</td>\n",
       "      <td>-0.723517</td>\n",
       "      <td>-0.312105</td>\n",
       "      <td>-0.731291</td>\n",
       "      <td>1.053592</td>\n",
       "      <td>0.217672</td>\n",
       "      <td>-0.071452</td>\n",
       "      <td>0.498148</td>\n",
       "      <td>0.276974</td>\n",
       "      <td>0.280611</td>\n",
       "    </tr>\n",
       "    <tr>\n",
       "      <th>...</th>\n",
       "      <td>...</td>\n",
       "      <td>...</td>\n",
       "      <td>...</td>\n",
       "      <td>...</td>\n",
       "      <td>...</td>\n",
       "      <td>...</td>\n",
       "      <td>...</td>\n",
       "      <td>...</td>\n",
       "      <td>...</td>\n",
       "      <td>...</td>\n",
       "      <td>...</td>\n",
       "      <td>...</td>\n",
       "      <td>...</td>\n",
       "      <td>...</td>\n",
       "      <td>...</td>\n",
       "      <td>...</td>\n",
       "      <td>...</td>\n",
       "      <td>...</td>\n",
       "      <td>...</td>\n",
       "      <td>...</td>\n",
       "      <td>...</td>\n",
       "    </tr>\n",
       "    <tr>\n",
       "      <th>129110</th>\n",
       "      <td>0.147928</td>\n",
       "      <td>-0.466450</td>\n",
       "      <td>-2.579195</td>\n",
       "      <td>-0.222997</td>\n",
       "      <td>0.492915</td>\n",
       "      <td>0.010183</td>\n",
       "      <td>0.228875</td>\n",
       "      <td>0.077775</td>\n",
       "      <td>0.334568</td>\n",
       "      <td>-0.346156</td>\n",
       "      <td>...</td>\n",
       "      <td>0.375292</td>\n",
       "      <td>0.953185</td>\n",
       "      <td>-0.304342</td>\n",
       "      <td>-0.407476</td>\n",
       "      <td>0.491738</td>\n",
       "      <td>-0.154852</td>\n",
       "      <td>0.547828</td>\n",
       "      <td>-0.943719</td>\n",
       "      <td>0.616819</td>\n",
       "      <td>-1.027851</td>\n",
       "    </tr>\n",
       "    <tr>\n",
       "      <th>331927</th>\n",
       "      <td>1.964038</td>\n",
       "      <td>-1.154690</td>\n",
       "      <td>1.389507</td>\n",
       "      <td>-0.872590</td>\n",
       "      <td>0.576683</td>\n",
       "      <td>0.163802</td>\n",
       "      <td>-1.885467</td>\n",
       "      <td>0.145740</td>\n",
       "      <td>-0.375998</td>\n",
       "      <td>-0.577524</td>\n",
       "      <td>...</td>\n",
       "      <td>-0.998480</td>\n",
       "      <td>0.352234</td>\n",
       "      <td>-0.908597</td>\n",
       "      <td>0.082418</td>\n",
       "      <td>-1.018967</td>\n",
       "      <td>0.352738</td>\n",
       "      <td>-0.311563</td>\n",
       "      <td>-2.071302</td>\n",
       "      <td>0.874419</td>\n",
       "      <td>0.836225</td>\n",
       "    </tr>\n",
       "    <tr>\n",
       "      <th>56845</th>\n",
       "      <td>-1.050082</td>\n",
       "      <td>0.985872</td>\n",
       "      <td>0.534926</td>\n",
       "      <td>-0.390432</td>\n",
       "      <td>-0.241222</td>\n",
       "      <td>0.674184</td>\n",
       "      <td>-0.182511</td>\n",
       "      <td>-0.791589</td>\n",
       "      <td>0.737421</td>\n",
       "      <td>-0.622484</td>\n",
       "      <td>...</td>\n",
       "      <td>0.164597</td>\n",
       "      <td>0.226782</td>\n",
       "      <td>0.295148</td>\n",
       "      <td>-0.824317</td>\n",
       "      <td>-0.091623</td>\n",
       "      <td>-1.276609</td>\n",
       "      <td>0.790654</td>\n",
       "      <td>0.149580</td>\n",
       "      <td>0.134539</td>\n",
       "      <td>-1.001948</td>\n",
       "    </tr>\n",
       "    <tr>\n",
       "      <th>566940</th>\n",
       "      <td>0.790158</td>\n",
       "      <td>-1.354795</td>\n",
       "      <td>0.631185</td>\n",
       "      <td>-0.346959</td>\n",
       "      <td>-0.998696</td>\n",
       "      <td>-0.362117</td>\n",
       "      <td>0.045769</td>\n",
       "      <td>-0.388163</td>\n",
       "      <td>0.364349</td>\n",
       "      <td>-0.305663</td>\n",
       "      <td>...</td>\n",
       "      <td>0.234024</td>\n",
       "      <td>0.324400</td>\n",
       "      <td>-1.168460</td>\n",
       "      <td>0.082392</td>\n",
       "      <td>0.550801</td>\n",
       "      <td>-0.050250</td>\n",
       "      <td>-0.043080</td>\n",
       "      <td>-0.067701</td>\n",
       "      <td>-0.121221</td>\n",
       "      <td>-1.388965</td>\n",
       "    </tr>\n",
       "    <tr>\n",
       "      <th>482293</th>\n",
       "      <td>0.137536</td>\n",
       "      <td>-1.509833</td>\n",
       "      <td>0.185727</td>\n",
       "      <td>-0.419822</td>\n",
       "      <td>-0.013155</td>\n",
       "      <td>0.074295</td>\n",
       "      <td>-0.403996</td>\n",
       "      <td>-0.508874</td>\n",
       "      <td>0.671119</td>\n",
       "      <td>0.147488</td>\n",
       "      <td>...</td>\n",
       "      <td>0.514933</td>\n",
       "      <td>-0.927689</td>\n",
       "      <td>-0.011889</td>\n",
       "      <td>0.086910</td>\n",
       "      <td>-1.155702</td>\n",
       "      <td>-1.125949</td>\n",
       "      <td>-1.477337</td>\n",
       "      <td>1.330051</td>\n",
       "      <td>0.401738</td>\n",
       "      <td>-0.658753</td>\n",
       "    </tr>\n",
       "  </tbody>\n",
       "</table>\n",
       "<p>402721 rows × 120 columns</p>\n",
       "</div>"
      ]
     },
     "execution_count": 19,
     "metadata": {},
     "output_type": "execute_result"
    }
   ],
   "execution_count": 19
  },
  {
   "metadata": {
    "ExecuteTime": {
     "end_time": "2025-02-04T20:28:23.758732Z",
     "start_time": "2025-02-04T20:28:22.575848Z"
    }
   },
   "cell_type": "code",
   "source": "!pip install numpy",
   "outputs": [
    {
     "name": "stdout",
     "output_type": "stream",
     "text": [
      "Requirement already satisfied: numpy in c:\\users\\user\\pycharmprojects\\fftilted1\\.venv\\lib\\site-packages (1.26.4)\n"
     ]
    }
   ],
   "execution_count": 12
  },
  {
   "cell_type": "code",
   "metadata": {
    "colab": {
     "base_uri": "https://localhost:8080/",
     "height": 877
    },
    "id": "tMaKhQydLxmp",
    "outputId": "17eda265-0283-44f7-a675-4fb72953b59b",
    "ExecuteTime": {
     "end_time": "2025-02-04T22:10:50.719297Z",
     "start_time": "2025-02-04T21:55:06.167930Z"
    }
   },
   "source": [
    "from catboost import CatBoostClassifier, Pool\n",
    "from sklearn.model_selection import train_test_split, GridSearchCV\n",
    "from sklearn.preprocessing import StandardScaler\n",
    "from sklearn.metrics import accuracy_score, f1_score, precision_score, recall_score\n",
    "\n",
    "y = df[120]\n",
    "X = df.drop(120, axis=1)\n",
    "\n",
    "scaler = StandardScaler()\n",
    "X_scaled = scaler.fit_transform(X)\n",
    "\n",
    "X_train, X_test, y_train, y_test = train_test_split(\n",
    "    X_scaled, y, test_size=0.2, random_state=52\n",
    ")\n",
    "\n",
    "model = CatBoostClassifier(loss_function='Logloss', verbose=100)\n",
    "param_grid = {\n",
    "    'iterations': [300, 500],\n",
    "    'depth': [6, 8],\n",
    "    'learning_rate': [0.05, 0.1]\n",
    "}\n",
    "grid = GridSearchCV(estimator=model, param_grid=param_grid, cv=3, scoring='accuracy')\n",
    "grid.fit(X_train, y_train)\n",
    "\n",
    "print(grid.best_params_)\n",
    "best_model = grid.best_estimator_\n",
    "best_model.fit(X_train, y_train)\n",
    "\n",
    "y_pred = best_model.predict(X_test)\n",
    "accuracy = accuracy_score(y_test, y_pred)\n",
    "f1 = f1_score(y_test, y_pred)\n",
    "recall=recall_score(y_test, y_pred)\n",
    "precision=precision_score(y_test, y_pred)\n",
    "print(accuracy, f1, recall, precision)\n"
   ],
   "outputs": [
    {
     "name": "stdout",
     "output_type": "stream",
     "text": [
      "0:\tlearn: 0.6293532\ttotal: 37ms\tremaining: 11.1s\n",
      "100:\tlearn: 0.1253237\ttotal: 3.98s\tremaining: 7.83s\n",
      "200:\tlearn: 0.0985212\ttotal: 11.3s\tremaining: 5.56s\n",
      "299:\tlearn: 0.0806939\ttotal: 18.3s\tremaining: 0us\n",
      "0:\tlearn: 0.6292745\ttotal: 77.6ms\tremaining: 23.2s\n",
      "100:\tlearn: 0.1245501\ttotal: 8.36s\tremaining: 16.5s\n",
      "200:\tlearn: 0.0988005\ttotal: 15.3s\tremaining: 7.53s\n",
      "299:\tlearn: 0.0809604\ttotal: 22.3s\tremaining: 0us\n",
      "0:\tlearn: 0.6287694\ttotal: 76.3ms\tremaining: 22.8s\n",
      "100:\tlearn: 0.1231623\ttotal: 5.54s\tremaining: 10.9s\n",
      "200:\tlearn: 0.0971694\ttotal: 8.98s\tremaining: 4.42s\n",
      "299:\tlearn: 0.0799474\ttotal: 13.7s\tremaining: 0us\n",
      "0:\tlearn: 0.5714667\ttotal: 74.5ms\tremaining: 22.3s\n",
      "100:\tlearn: 0.0997304\ttotal: 7.24s\tremaining: 14.3s\n",
      "200:\tlearn: 0.0671428\ttotal: 14.8s\tremaining: 7.29s\n",
      "299:\tlearn: 0.0456026\ttotal: 21.9s\tremaining: 0us\n",
      "0:\tlearn: 0.5713145\ttotal: 85.6ms\tremaining: 25.6s\n",
      "100:\tlearn: 0.0985906\ttotal: 8.21s\tremaining: 16.2s\n",
      "200:\tlearn: 0.0673800\ttotal: 16.1s\tremaining: 7.92s\n",
      "299:\tlearn: 0.0448378\ttotal: 24.1s\tremaining: 0us\n",
      "0:\tlearn: 0.5704106\ttotal: 65.7ms\tremaining: 19.6s\n",
      "100:\tlearn: 0.0984532\ttotal: 6.57s\tremaining: 12.9s\n",
      "200:\tlearn: 0.0654342\ttotal: 13s\tremaining: 6.39s\n",
      "299:\tlearn: 0.0433175\ttotal: 19.7s\tremaining: 0us\n",
      "0:\tlearn: 0.6293532\ttotal: 80.2ms\tremaining: 40s\n",
      "100:\tlearn: 0.1253237\ttotal: 7.83s\tremaining: 30.9s\n",
      "200:\tlearn: 0.0985212\ttotal: 14.5s\tremaining: 21.6s\n",
      "300:\tlearn: 0.0804102\ttotal: 21.6s\tremaining: 14.3s\n",
      "400:\tlearn: 0.0659070\ttotal: 29.3s\tremaining: 7.22s\n",
      "499:\tlearn: 0.0549089\ttotal: 36.7s\tremaining: 0us\n",
      "0:\tlearn: 0.6292745\ttotal: 93.4ms\tremaining: 46.6s\n",
      "100:\tlearn: 0.1245501\ttotal: 8.05s\tremaining: 31.8s\n",
      "200:\tlearn: 0.0988005\ttotal: 15.1s\tremaining: 22.4s\n",
      "300:\tlearn: 0.0808273\ttotal: 21.9s\tremaining: 14.5s\n",
      "400:\tlearn: 0.0665696\ttotal: 28.6s\tremaining: 7.07s\n",
      "499:\tlearn: 0.0545146\ttotal: 35.5s\tremaining: 0us\n",
      "0:\tlearn: 0.6287694\ttotal: 97.1ms\tremaining: 48.5s\n",
      "100:\tlearn: 0.1231623\ttotal: 8.12s\tremaining: 32.1s\n",
      "200:\tlearn: 0.0971694\ttotal: 15.3s\tremaining: 22.8s\n",
      "300:\tlearn: 0.0797757\ttotal: 22.4s\tremaining: 14.8s\n",
      "400:\tlearn: 0.0649271\ttotal: 29.8s\tremaining: 7.35s\n",
      "499:\tlearn: 0.0529490\ttotal: 37.4s\tremaining: 0us\n",
      "0:\tlearn: 0.5714667\ttotal: 73.4ms\tremaining: 36.6s\n",
      "100:\tlearn: 0.0997304\ttotal: 8.17s\tremaining: 32.3s\n",
      "200:\tlearn: 0.0671428\ttotal: 15.8s\tremaining: 23.5s\n",
      "300:\tlearn: 0.0454806\ttotal: 23.2s\tremaining: 15.3s\n",
      "400:\tlearn: 0.0306507\ttotal: 31s\tremaining: 7.65s\n",
      "499:\tlearn: 0.0213223\ttotal: 38.9s\tremaining: 0us\n",
      "0:\tlearn: 0.5713145\ttotal: 64.5ms\tremaining: 32.2s\n",
      "100:\tlearn: 0.0985906\ttotal: 6.56s\tremaining: 25.9s\n",
      "200:\tlearn: 0.0673800\ttotal: 12.6s\tremaining: 18.8s\n",
      "300:\tlearn: 0.0446899\ttotal: 17.7s\tremaining: 11.7s\n",
      "400:\tlearn: 0.0303454\ttotal: 21.2s\tremaining: 5.24s\n",
      "499:\tlearn: 0.0211581\ttotal: 24.8s\tremaining: 0us\n",
      "0:\tlearn: 0.5704106\ttotal: 38.1ms\tremaining: 19s\n",
      "100:\tlearn: 0.0984532\ttotal: 3.54s\tremaining: 14s\n",
      "200:\tlearn: 0.0654342\ttotal: 6.83s\tremaining: 10.2s\n",
      "300:\tlearn: 0.0431119\ttotal: 10.2s\tremaining: 6.74s\n",
      "400:\tlearn: 0.0293687\ttotal: 13.6s\tremaining: 3.37s\n",
      "499:\tlearn: 0.0208522\ttotal: 17s\tremaining: 0us\n",
      "0:\tlearn: 0.6256558\ttotal: 65.9ms\tremaining: 19.7s\n",
      "100:\tlearn: 0.0978830\ttotal: 5.91s\tremaining: 11.7s\n",
      "200:\tlearn: 0.0663473\ttotal: 11.6s\tremaining: 5.73s\n",
      "299:\tlearn: 0.0456331\ttotal: 17.4s\tremaining: 0us\n",
      "0:\tlearn: 0.6256835\ttotal: 60.5ms\tremaining: 18.1s\n",
      "100:\tlearn: 0.0961771\ttotal: 5.96s\tremaining: 11.7s\n",
      "200:\tlearn: 0.0654353\ttotal: 11.4s\tremaining: 5.63s\n",
      "299:\tlearn: 0.0450239\ttotal: 16.9s\tremaining: 0us\n",
      "0:\tlearn: 0.6266269\ttotal: 61.9ms\tremaining: 18.5s\n",
      "100:\tlearn: 0.0962681\ttotal: 5.96s\tremaining: 11.7s\n",
      "200:\tlearn: 0.0654831\ttotal: 11.3s\tremaining: 5.57s\n",
      "299:\tlearn: 0.0449744\ttotal: 16.7s\tremaining: 0us\n",
      "0:\tlearn: 0.5648777\ttotal: 56.9ms\tremaining: 17s\n",
      "100:\tlearn: 0.0655369\ttotal: 5.63s\tremaining: 11.1s\n",
      "200:\tlearn: 0.0311437\ttotal: 11.1s\tremaining: 5.46s\n",
      "299:\tlearn: 0.0146983\ttotal: 16.7s\tremaining: 0us\n",
      "0:\tlearn: 0.5649023\ttotal: 57.9ms\tremaining: 17.3s\n",
      "100:\tlearn: 0.0661171\ttotal: 5.66s\tremaining: 11.2s\n",
      "200:\tlearn: 0.0320621\ttotal: 11.1s\tremaining: 5.47s\n",
      "299:\tlearn: 0.0152756\ttotal: 16.8s\tremaining: 0us\n",
      "0:\tlearn: 0.5664627\ttotal: 64ms\tremaining: 19.1s\n",
      "100:\tlearn: 0.0668900\ttotal: 5.65s\tremaining: 11.1s\n",
      "200:\tlearn: 0.0310813\ttotal: 11.2s\tremaining: 5.51s\n",
      "299:\tlearn: 0.0152475\ttotal: 16.8s\tremaining: 0us\n",
      "0:\tlearn: 0.6256558\ttotal: 57.4ms\tremaining: 28.7s\n",
      "100:\tlearn: 0.0978830\ttotal: 5.94s\tremaining: 23.5s\n",
      "200:\tlearn: 0.0663473\ttotal: 11.3s\tremaining: 16.8s\n",
      "300:\tlearn: 0.0455426\ttotal: 16.8s\tremaining: 11.1s\n",
      "400:\tlearn: 0.0308701\ttotal: 22.4s\tremaining: 5.53s\n",
      "499:\tlearn: 0.0209139\ttotal: 28s\tremaining: 0us\n",
      "0:\tlearn: 0.6256835\ttotal: 60.9ms\tremaining: 30.4s\n",
      "100:\tlearn: 0.0961771\ttotal: 6s\tremaining: 23.7s\n",
      "200:\tlearn: 0.0654353\ttotal: 11.3s\tremaining: 16.9s\n",
      "300:\tlearn: 0.0448351\ttotal: 16.8s\tremaining: 11.1s\n",
      "400:\tlearn: 0.0305719\ttotal: 22.4s\tremaining: 5.52s\n",
      "499:\tlearn: 0.0207525\ttotal: 28.1s\tremaining: 0us\n",
      "0:\tlearn: 0.6266269\ttotal: 62.4ms\tremaining: 31.1s\n",
      "100:\tlearn: 0.0962681\ttotal: 5.91s\tremaining: 23.3s\n",
      "200:\tlearn: 0.0654831\ttotal: 11.2s\tremaining: 16.7s\n",
      "300:\tlearn: 0.0448533\ttotal: 16.7s\tremaining: 11s\n",
      "400:\tlearn: 0.0303915\ttotal: 22.3s\tremaining: 5.5s\n",
      "499:\tlearn: 0.0209671\ttotal: 27.8s\tremaining: 0us\n",
      "0:\tlearn: 0.5648777\ttotal: 60.7ms\tremaining: 30.3s\n",
      "100:\tlearn: 0.0655369\ttotal: 5.69s\tremaining: 22.5s\n",
      "200:\tlearn: 0.0311437\ttotal: 11.3s\tremaining: 16.8s\n",
      "300:\tlearn: 0.0145995\ttotal: 17s\tremaining: 11.2s\n",
      "400:\tlearn: 0.0078076\ttotal: 22.7s\tremaining: 5.59s\n",
      "499:\tlearn: 0.0044293\ttotal: 28.4s\tremaining: 0us\n",
      "0:\tlearn: 0.5649023\ttotal: 58.4ms\tremaining: 29.1s\n",
      "100:\tlearn: 0.0661171\ttotal: 5.62s\tremaining: 22.2s\n",
      "200:\tlearn: 0.0320621\ttotal: 11s\tremaining: 16.4s\n",
      "300:\tlearn: 0.0151148\ttotal: 16.7s\tremaining: 11s\n",
      "400:\tlearn: 0.0079322\ttotal: 22.4s\tremaining: 5.52s\n",
      "499:\tlearn: 0.0045669\ttotal: 28s\tremaining: 0us\n",
      "0:\tlearn: 0.5664627\ttotal: 63.1ms\tremaining: 31.5s\n",
      "100:\tlearn: 0.0668900\ttotal: 5.62s\tremaining: 22.2s\n",
      "200:\tlearn: 0.0310813\ttotal: 11.1s\tremaining: 16.5s\n",
      "300:\tlearn: 0.0151267\ttotal: 16.8s\tremaining: 11.1s\n",
      "400:\tlearn: 0.0079753\ttotal: 22.5s\tremaining: 5.56s\n",
      "499:\tlearn: 0.0044269\ttotal: 28.2s\tremaining: 0us\n",
      "0:\tlearn: 0.5630534\ttotal: 80.2ms\tremaining: 40s\n",
      "100:\tlearn: 0.0654346\ttotal: 7.17s\tremaining: 28.3s\n",
      "200:\tlearn: 0.0312294\ttotal: 14.1s\tremaining: 21s\n",
      "300:\tlearn: 0.0154001\ttotal: 21.3s\tremaining: 14.1s\n",
      "400:\tlearn: 0.0083044\ttotal: 28.5s\tremaining: 7.03s\n",
      "499:\tlearn: 0.0045951\ttotal: 35.7s\tremaining: 0us\n",
      "Лучшая комбинация параметров: {'depth': 8, 'iterations': 500, 'learning_rate': 0.1}\n",
      "0:\tlearn: 0.5630534\ttotal: 78.8ms\tremaining: 39.3s\n",
      "100:\tlearn: 0.0654346\ttotal: 7.25s\tremaining: 28.6s\n",
      "200:\tlearn: 0.0312294\ttotal: 14.3s\tremaining: 21.2s\n",
      "300:\tlearn: 0.0154001\ttotal: 21.5s\tremaining: 14.2s\n",
      "400:\tlearn: 0.0083044\ttotal: 28.7s\tremaining: 7.1s\n",
      "499:\tlearn: 0.0045951\ttotal: 36s\tremaining: 0us\n",
      "0.999000556212195 0.9920177691400014 0.9841619611623743 1.0\n"
     ]
    }
   ],
   "execution_count": 22
  },
  {
   "metadata": {},
   "cell_type": "markdown",
   "source": ""
  },
  {
   "metadata": {
    "ExecuteTime": {
     "end_time": "2025-02-05T11:32:05.279021Z",
     "start_time": "2025-02-05T11:32:05.153946Z"
    }
   },
   "cell_type": "code",
   "source": [
    "import numpy as np\n",
    "from sklearn.metrics import accuracy_score, f1_score, recall_score, precision_score\n",
    "\n",
    "def test_model_metrics(model, X_test, y_test, thresholds):\n",
    "    y_pred = model.predict(X_test)\n",
    "    metrics = {\n",
    "        'accuracy': accuracy_score(y_test, y_pred),\n",
    "        'f1': f1_score(y_test, y_pred),\n",
    "        'recall': recall_score(y_test, y_pred),\n",
    "        'precision': precision_score(y_test, y_pred)\n",
    "    }\n",
    "    for metric_name, value in metrics.items():\n",
    "        threshold = thresholds.get(metric_name)\n",
    "        print(f\"{metric_name.capitalize()}: {value:.4f} (требуется >= {threshold})\")\n",
    "        assert value >= threshold, f\"{metric_name.capitalize()} ниже порога: {value:.4f} < {threshold}\"\n",
    "\n",
    "    print(\"Все тесты пройдены успешно!\")\n",
    "    return metrics\n",
    "\n",
    "thresholds = {\n",
    "    'accuracy': 0.90,\n",
    "    'f1': 0.90,\n",
    "    'recall': 0.90,\n",
    "    'precision': 0.90\n",
    "}\n",
    "\n",
    "metrics = test_model_metrics(best_model, X_test, y_test, thresholds)\n"
   ],
   "outputs": [
    {
     "ename": "NameError",
     "evalue": "name 'best_model' is not defined",
     "output_type": "error",
     "traceback": [
      "\u001B[1;31m---------------------------------------------------------------------------\u001B[0m",
      "\u001B[1;31mNameError\u001B[0m                                 Traceback (most recent call last)",
      "Cell \u001B[1;32mIn[3], line 39\u001B[0m\n\u001B[0;32m     30\u001B[0m     \u001B[38;5;28;01mreturn\u001B[39;00m metrics\n\u001B[0;32m     32\u001B[0m thresholds \u001B[38;5;241m=\u001B[39m {\n\u001B[0;32m     33\u001B[0m     \u001B[38;5;124m'\u001B[39m\u001B[38;5;124maccuracy\u001B[39m\u001B[38;5;124m'\u001B[39m: \u001B[38;5;241m0.90\u001B[39m,\n\u001B[0;32m     34\u001B[0m     \u001B[38;5;124m'\u001B[39m\u001B[38;5;124mf1\u001B[39m\u001B[38;5;124m'\u001B[39m: \u001B[38;5;241m0.90\u001B[39m,\n\u001B[0;32m     35\u001B[0m     \u001B[38;5;124m'\u001B[39m\u001B[38;5;124mrecall\u001B[39m\u001B[38;5;124m'\u001B[39m: \u001B[38;5;241m0.90\u001B[39m,\n\u001B[0;32m     36\u001B[0m     \u001B[38;5;124m'\u001B[39m\u001B[38;5;124mprecision\u001B[39m\u001B[38;5;124m'\u001B[39m: \u001B[38;5;241m0.90\u001B[39m\n\u001B[0;32m     37\u001B[0m }\n\u001B[1;32m---> 39\u001B[0m metrics \u001B[38;5;241m=\u001B[39m test_model_metrics(\u001B[43mbest_model\u001B[49m, X_test, y_test, thresholds)\n",
      "\u001B[1;31mNameError\u001B[0m: name 'best_model' is not defined"
     ]
    }
   ],
   "execution_count": 3
  },
  {
   "metadata": {
    "ExecuteTime": {
     "end_time": "2025-02-04T17:00:00.272102Z",
     "start_time": "2025-02-04T17:00:00.262780Z"
    }
   },
   "cell_type": "code",
   "source": "",
   "outputs": [
    {
     "name": "stdout",
     "output_type": "stream",
     "text": [
      "(402721, 120)\n",
      "(402721,)\n"
     ]
    }
   ],
   "execution_count": 36
  },
  {
   "cell_type": "code",
   "metadata": {
    "colab": {
     "base_uri": "https://localhost:8080/",
     "height": 287
    },
    "id": "sYDM5KukN-35",
    "outputId": "e6d6112e-b0c3-4399-f889-1185d668c86e",
    "ExecuteTime": {
     "end_time": "2025-02-04T20:28:41.560827Z",
     "start_time": "2025-02-04T20:28:41.522419Z"
    }
   },
   "source": [
    "model.predict(X_test)"
   ],
   "outputs": [
    {
     "data": {
      "text/plain": [
       "array([0, 0, 0, ..., 0, 0, 0], dtype=int64)"
      ]
     },
     "execution_count": 14,
     "metadata": {},
     "output_type": "execute_result"
    }
   ],
   "execution_count": 14
  },
  {
   "cell_type": "code",
   "metadata": {
    "id": "ejxlLYGQOBNJ",
    "ExecuteTime": {
     "end_time": "2025-02-04T20:28:52.940606Z",
     "start_time": "2025-02-04T20:28:52.925409Z"
    }
   },
   "source": [
    "model.predict_proba(X_test)"
   ],
   "outputs": [
    {
     "data": {
      "text/plain": [
       "array([[0.51065014, 0.48934986],\n",
       "       [0.51065014, 0.48934986],\n",
       "       [0.51065014, 0.48934986],\n",
       "       ...,\n",
       "       [0.51065014, 0.48934986],\n",
       "       [0.51065014, 0.48934986],\n",
       "       [0.51065014, 0.48934986]])"
      ]
     },
     "execution_count": 15,
     "metadata": {},
     "output_type": "execute_result"
    }
   ],
   "execution_count": 15
  },
  {
   "cell_type": "code",
   "metadata": {
    "id": "45MUH7f3ODjy",
    "ExecuteTime": {
     "end_time": "2025-02-04T20:29:54.015816Z",
     "start_time": "2025-02-04T20:29:54.003354Z"
    }
   },
   "source": [
    "model.predict(X_test, prediction_type='RawFormulaVal')"
   ],
   "outputs": [
    {
     "data": {
      "text/plain": [
       "array([-0.04260701, -0.04260701, -0.04260701, ..., -0.04260701,\n",
       "       -0.04260701, -0.04260701])"
      ]
     },
     "execution_count": 16,
     "metadata": {},
     "output_type": "execute_result"
    }
   ],
   "execution_count": 16
  },
  {
   "cell_type": "code",
   "metadata": {
    "id": "J9li7lWoqlkn",
    "ExecuteTime": {
     "end_time": "2025-02-04T20:29:57.288491Z",
     "start_time": "2025-02-04T20:29:57.120391Z"
    }
   },
   "source": [
    "import pandas as pd\n",
    "\n",
    "df = pd.DataFrame(list([val] for val in data.values()), index=pd.MultiIndex.from_tuples(data.keys(), names=['atlas', 'dataset', 'class', 'strategy', 'GSR']))\n",
    "df.sort_index(inplace=True);"
   ],
   "outputs": [
    {
     "ename": "AttributeError",
     "evalue": "'numpy.ndarray' object has no attribute 'values'",
     "output_type": "error",
     "traceback": [
      "\u001B[1;31m---------------------------------------------------------------------------\u001B[0m",
      "\u001B[1;31mAttributeError\u001B[0m                            Traceback (most recent call last)",
      "Cell \u001B[1;32mIn[17], line 3\u001B[0m\n\u001B[0;32m      1\u001B[0m \u001B[38;5;28;01mimport\u001B[39;00m\u001B[38;5;250m \u001B[39m\u001B[38;5;21;01mpandas\u001B[39;00m\u001B[38;5;250m \u001B[39m\u001B[38;5;28;01mas\u001B[39;00m\u001B[38;5;250m \u001B[39m\u001B[38;5;21;01mpd\u001B[39;00m\n\u001B[1;32m----> 3\u001B[0m df \u001B[38;5;241m=\u001B[39m pd\u001B[38;5;241m.\u001B[39mDataFrame(\u001B[38;5;28mlist\u001B[39m([val] \u001B[38;5;28;01mfor\u001B[39;00m val \u001B[38;5;129;01min\u001B[39;00m \u001B[43mdata\u001B[49m\u001B[38;5;241;43m.\u001B[39;49m\u001B[43mvalues\u001B[49m()), index\u001B[38;5;241m=\u001B[39mpd\u001B[38;5;241m.\u001B[39mMultiIndex\u001B[38;5;241m.\u001B[39mfrom_tuples(data\u001B[38;5;241m.\u001B[39mkeys(), names\u001B[38;5;241m=\u001B[39m[\u001B[38;5;124m'\u001B[39m\u001B[38;5;124matlas\u001B[39m\u001B[38;5;124m'\u001B[39m, \u001B[38;5;124m'\u001B[39m\u001B[38;5;124mdataset\u001B[39m\u001B[38;5;124m'\u001B[39m, \u001B[38;5;124m'\u001B[39m\u001B[38;5;124mclass\u001B[39m\u001B[38;5;124m'\u001B[39m, \u001B[38;5;124m'\u001B[39m\u001B[38;5;124mstrategy\u001B[39m\u001B[38;5;124m'\u001B[39m, \u001B[38;5;124m'\u001B[39m\u001B[38;5;124mGSR\u001B[39m\u001B[38;5;124m'\u001B[39m]))\n\u001B[0;32m      4\u001B[0m df\u001B[38;5;241m.\u001B[39msort_index(inplace\u001B[38;5;241m=\u001B[39m\u001B[38;5;28;01mTrue\u001B[39;00m);\n",
      "\u001B[1;31mAttributeError\u001B[0m: 'numpy.ndarray' object has no attribute 'values'"
     ]
    }
   ],
   "execution_count": 17
  },
  {
   "cell_type": "code",
   "execution_count": null,
   "metadata": {
    "colab": {
     "base_uri": "https://localhost:8080/",
     "height": 1887
    },
    "id": "5wx46yRbsXzh",
    "outputId": "e96d3ff4-a702-4d94-c7cf-e10cfb5f9ac6"
   },
   "outputs": [
    {
     "data": {
      "application/vnd.google.colaboratory.intrinsic+json": {
       "summary": "{\n  \"name\": \"df\",\n  \"rows\": 32,\n  \"fields\": [\n    {\n      \"column\": 0,\n      \"properties\": {\n        \"dtype\": \"object\",\n        \"semantic_type\": \"\",\n        \"description\": \"\"\n      }\n    }\n  ]\n}",
       "type": "dataframe",
       "variable_name": "df"
      },
      "text/html": [
       "\n",
       "  <div id=\"df-c8420818-209d-4699-a9ba-73180d5a1411\" class=\"colab-df-container\">\n",
       "    <div>\n",
       "<style scoped>\n",
       "    .dataframe tbody tr th:only-of-type {\n",
       "        vertical-align: middle;\n",
       "    }\n",
       "\n",
       "    .dataframe tbody tr th {\n",
       "        vertical-align: top;\n",
       "    }\n",
       "\n",
       "    .dataframe thead th {\n",
       "        text-align: right;\n",
       "    }\n",
       "</style>\n",
       "<table border=\"1\" class=\"dataframe\">\n",
       "  <thead>\n",
       "    <tr style=\"text-align: right;\">\n",
       "      <th></th>\n",
       "      <th></th>\n",
       "      <th></th>\n",
       "      <th></th>\n",
       "      <th></th>\n",
       "      <th>0</th>\n",
       "    </tr>\n",
       "    <tr>\n",
       "      <th>atlas</th>\n",
       "      <th>dataset</th>\n",
       "      <th>class</th>\n",
       "      <th>strategy</th>\n",
       "      <th>GSR</th>\n",
       "      <th></th>\n",
       "    </tr>\n",
       "  </thead>\n",
       "  <tbody>\n",
       "    <tr>\n",
       "      <th rowspan=\"5\" valign=\"top\">AAL</th>\n",
       "      <th rowspan=\"5\" valign=\"top\">rmet</th>\n",
       "      <th rowspan=\"4\" valign=\"top\">close</th>\n",
       "      <th rowspan=\"2\" valign=\"top\">2</th>\n",
       "      <th>GSR</th>\n",
       "      <td>[[[0.49872941386279845, -0.8318829721130215, 1...</td>\n",
       "    </tr>\n",
       "    <tr>\n",
       "      <th>noGSR</th>\n",
       "      <td>[[[0.678245159604991, -0.25980114630165074, 0....</td>\n",
       "    </tr>\n",
       "    <tr>\n",
       "      <th rowspan=\"2\" valign=\"top\">3</th>\n",
       "      <th>GSR</th>\n",
       "      <td>[[[0.8165110807596462, -0.5689161667585938, 1....</td>\n",
       "    </tr>\n",
       "    <tr>\n",
       "      <th>noGSR</th>\n",
       "      <td>[[[0.9840598021404207, -0.07008979256868253, 0...</td>\n",
       "    </tr>\n",
       "    <tr>\n",
       "      <th>open</th>\n",
       "      <th>2</th>\n",
       "      <th>GSR</th>\n",
       "      <td>[[[0.02001187235572125, -0.07345551936605457, ...</td>\n",
       "    </tr>\n",
       "  </tbody>\n",
       "</table>\n",
       "</div>\n",
       "    <div class=\"colab-df-buttons\">\n",
       "\n",
       "  <div class=\"colab-df-container\">\n",
       "    <button class=\"colab-df-convert\" onclick=\"convertToInteractive('df-c8420818-209d-4699-a9ba-73180d5a1411')\"\n",
       "            title=\"Convert this dataframe to an interactive table.\"\n",
       "            style=\"display:none;\">\n",
       "\n",
       "  <svg xmlns=\"http://www.w3.org/2000/svg\" height=\"24px\" viewBox=\"0 -960 960 960\">\n",
       "    <path d=\"M120-120v-720h720v720H120Zm60-500h600v-160H180v160Zm220 220h160v-160H400v160Zm0 220h160v-160H400v160ZM180-400h160v-160H180v160Zm440 0h160v-160H620v160ZM180-180h160v-160H180v160Zm440 0h160v-160H620v160Z\"/>\n",
       "  </svg>\n",
       "    </button>\n",
       "\n",
       "  <style>\n",
       "    .colab-df-container {\n",
       "      display:flex;\n",
       "      gap: 12px;\n",
       "    }\n",
       "\n",
       "    .colab-df-convert {\n",
       "      background-color: #E8F0FE;\n",
       "      border: none;\n",
       "      border-radius: 50%;\n",
       "      cursor: pointer;\n",
       "      display: none;\n",
       "      fill: #1967D2;\n",
       "      height: 32px;\n",
       "      padding: 0 0 0 0;\n",
       "      width: 32px;\n",
       "    }\n",
       "\n",
       "    .colab-df-convert:hover {\n",
       "      background-color: #E2EBFA;\n",
       "      box-shadow: 0px 1px 2px rgba(60, 64, 67, 0.3), 0px 1px 3px 1px rgba(60, 64, 67, 0.15);\n",
       "      fill: #174EA6;\n",
       "    }\n",
       "\n",
       "    .colab-df-buttons div {\n",
       "      margin-bottom: 4px;\n",
       "    }\n",
       "\n",
       "    [theme=dark] .colab-df-convert {\n",
       "      background-color: #3B4455;\n",
       "      fill: #D2E3FC;\n",
       "    }\n",
       "\n",
       "    [theme=dark] .colab-df-convert:hover {\n",
       "      background-color: #434B5C;\n",
       "      box-shadow: 0px 1px 3px 1px rgba(0, 0, 0, 0.15);\n",
       "      filter: drop-shadow(0px 1px 2px rgba(0, 0, 0, 0.3));\n",
       "      fill: #FFFFFF;\n",
       "    }\n",
       "  </style>\n",
       "\n",
       "    <script>\n",
       "      const buttonEl =\n",
       "        document.querySelector('#df-c8420818-209d-4699-a9ba-73180d5a1411 button.colab-df-convert');\n",
       "      buttonEl.style.display =\n",
       "        google.colab.kernel.accessAllowed ? 'block' : 'none';\n",
       "\n",
       "      async function convertToInteractive(key) {\n",
       "        const element = document.querySelector('#df-c8420818-209d-4699-a9ba-73180d5a1411');\n",
       "        const dataTable =\n",
       "          await google.colab.kernel.invokeFunction('convertToInteractive',\n",
       "                                                    [key], {});\n",
       "        if (!dataTable) return;\n",
       "\n",
       "        const docLinkHtml = 'Like what you see? Visit the ' +\n",
       "          '<a target=\"_blank\" href=https://colab.research.google.com/notebooks/data_table.ipynb>data table notebook</a>'\n",
       "          + ' to learn more about interactive tables.';\n",
       "        element.innerHTML = '';\n",
       "        dataTable['output_type'] = 'display_data';\n",
       "        await google.colab.output.renderOutput(dataTable, element);\n",
       "        const docLink = document.createElement('div');\n",
       "        docLink.innerHTML = docLinkHtml;\n",
       "        element.appendChild(docLink);\n",
       "      }\n",
       "    </script>\n",
       "  </div>\n",
       "\n",
       "\n",
       "<div id=\"df-09bddafc-644c-4825-9b83-7ef5b1901084\">\n",
       "  <button class=\"colab-df-quickchart\" onclick=\"quickchart('df-09bddafc-644c-4825-9b83-7ef5b1901084')\"\n",
       "            title=\"Suggest charts\"\n",
       "            style=\"display:none;\">\n",
       "\n",
       "<svg xmlns=\"http://www.w3.org/2000/svg\" height=\"24px\"viewBox=\"0 0 24 24\"\n",
       "     width=\"24px\">\n",
       "    <g>\n",
       "        <path d=\"M19 3H5c-1.1 0-2 .9-2 2v14c0 1.1.9 2 2 2h14c1.1 0 2-.9 2-2V5c0-1.1-.9-2-2-2zM9 17H7v-7h2v7zm4 0h-2V7h2v10zm4 0h-2v-4h2v4z\"/>\n",
       "    </g>\n",
       "</svg>\n",
       "  </button>\n",
       "\n",
       "<style>\n",
       "  .colab-df-quickchart {\n",
       "      --bg-color: #E8F0FE;\n",
       "      --fill-color: #1967D2;\n",
       "      --hover-bg-color: #E2EBFA;\n",
       "      --hover-fill-color: #174EA6;\n",
       "      --disabled-fill-color: #AAA;\n",
       "      --disabled-bg-color: #DDD;\n",
       "  }\n",
       "\n",
       "  [theme=dark] .colab-df-quickchart {\n",
       "      --bg-color: #3B4455;\n",
       "      --fill-color: #D2E3FC;\n",
       "      --hover-bg-color: #434B5C;\n",
       "      --hover-fill-color: #FFFFFF;\n",
       "      --disabled-bg-color: #3B4455;\n",
       "      --disabled-fill-color: #666;\n",
       "  }\n",
       "\n",
       "  .colab-df-quickchart {\n",
       "    background-color: var(--bg-color);\n",
       "    border: none;\n",
       "    border-radius: 50%;\n",
       "    cursor: pointer;\n",
       "    display: none;\n",
       "    fill: var(--fill-color);\n",
       "    height: 32px;\n",
       "    padding: 0;\n",
       "    width: 32px;\n",
       "  }\n",
       "\n",
       "  .colab-df-quickchart:hover {\n",
       "    background-color: var(--hover-bg-color);\n",
       "    box-shadow: 0 1px 2px rgba(60, 64, 67, 0.3), 0 1px 3px 1px rgba(60, 64, 67, 0.15);\n",
       "    fill: var(--button-hover-fill-color);\n",
       "  }\n",
       "\n",
       "  .colab-df-quickchart-complete:disabled,\n",
       "  .colab-df-quickchart-complete:disabled:hover {\n",
       "    background-color: var(--disabled-bg-color);\n",
       "    fill: var(--disabled-fill-color);\n",
       "    box-shadow: none;\n",
       "  }\n",
       "\n",
       "  .colab-df-spinner {\n",
       "    border: 2px solid var(--fill-color);\n",
       "    border-color: transparent;\n",
       "    border-bottom-color: var(--fill-color);\n",
       "    animation:\n",
       "      spin 1s steps(1) infinite;\n",
       "  }\n",
       "\n",
       "  @keyframes spin {\n",
       "    0% {\n",
       "      border-color: transparent;\n",
       "      border-bottom-color: var(--fill-color);\n",
       "      border-left-color: var(--fill-color);\n",
       "    }\n",
       "    20% {\n",
       "      border-color: transparent;\n",
       "      border-left-color: var(--fill-color);\n",
       "      border-top-color: var(--fill-color);\n",
       "    }\n",
       "    30% {\n",
       "      border-color: transparent;\n",
       "      border-left-color: var(--fill-color);\n",
       "      border-top-color: var(--fill-color);\n",
       "      border-right-color: var(--fill-color);\n",
       "    }\n",
       "    40% {\n",
       "      border-color: transparent;\n",
       "      border-right-color: var(--fill-color);\n",
       "      border-top-color: var(--fill-color);\n",
       "    }\n",
       "    60% {\n",
       "      border-color: transparent;\n",
       "      border-right-color: var(--fill-color);\n",
       "    }\n",
       "    80% {\n",
       "      border-color: transparent;\n",
       "      border-right-color: var(--fill-color);\n",
       "      border-bottom-color: var(--fill-color);\n",
       "    }\n",
       "    90% {\n",
       "      border-color: transparent;\n",
       "      border-bottom-color: var(--fill-color);\n",
       "    }\n",
       "  }\n",
       "</style>\n",
       "\n",
       "  <script>\n",
       "    async function quickchart(key) {\n",
       "      const quickchartButtonEl =\n",
       "        document.querySelector('#' + key + ' button');\n",
       "      quickchartButtonEl.disabled = true;  // To prevent multiple clicks.\n",
       "      quickchartButtonEl.classList.add('colab-df-spinner');\n",
       "      try {\n",
       "        const charts = await google.colab.kernel.invokeFunction(\n",
       "            'suggestCharts', [key], {});\n",
       "      } catch (error) {\n",
       "        console.error('Error during call to suggestCharts:', error);\n",
       "      }\n",
       "      quickchartButtonEl.classList.remove('colab-df-spinner');\n",
       "      quickchartButtonEl.classList.add('colab-df-quickchart-complete');\n",
       "    }\n",
       "    (() => {\n",
       "      let quickchartButtonEl =\n",
       "        document.querySelector('#df-09bddafc-644c-4825-9b83-7ef5b1901084 button');\n",
       "      quickchartButtonEl.style.display =\n",
       "        google.colab.kernel.accessAllowed ? 'block' : 'none';\n",
       "    })();\n",
       "  </script>\n",
       "</div>\n",
       "    </div>\n",
       "  </div>\n"
      ],
      "text/plain": [
       "                                                                                    0\n",
       "atlas dataset class strategy GSR                                                     \n",
       "AAL   rmet    close 2        GSR    [[[0.49872941386279845, -0.8318829721130215, 1...\n",
       "                             noGSR  [[[0.678245159604991, -0.25980114630165074, 0....\n",
       "                    3        GSR    [[[0.8165110807596462, -0.5689161667585938, 1....\n",
       "                             noGSR  [[[0.9840598021404207, -0.07008979256868253, 0...\n",
       "              open  2        GSR    [[[0.02001187235572125, -0.07345551936605457, ..."
      ]
     },
     "execution_count": 7,
     "metadata": {},
     "output_type": "execute_result"
    },
    {
     "name": "stdout",
     "output_type": "stream",
     "text": [
      "Error: Runtime no longer has a reference to this dataframe, please re-run this cell and try again.\n",
      "Error: Runtime no longer has a reference to this dataframe, please re-run this cell and try again.\n"
     ]
    }
   ],
   "source": [
    "df.head()"
   ]
  },
  {
   "cell_type": "code",
   "execution_count": null,
   "metadata": {
    "colab": {
     "base_uri": "https://localhost:8080/"
    },
    "id": "F6s1FygryCck",
    "outputId": "1120749c-746d-47d1-86be-e975ffde7cd1"
   },
   "outputs": [
    {
     "data": {
      "text/plain": [
       "array([[[ 4.98729414e-01, -8.31882972e-01,  1.08565267e+00, ...,\n",
       "         -1.25194687e+00,  8.62937301e-01, -1.42285915e+00],\n",
       "        [-8.73694358e-01, -7.73899958e-02, -2.13107072e-01, ...,\n",
       "          6.71831789e-01,  3.79522605e-01,  5.21428611e+00],\n",
       "        [ 7.03247485e-01,  3.44189012e-01,  2.00920395e-01, ...,\n",
       "         -8.43784024e-01, -1.17797884e+00, -6.96275327e-01],\n",
       "        ...,\n",
       "        [-9.49996535e-01,  6.39507108e-02, -3.73141534e-01, ...,\n",
       "          9.44741947e-01,  7.89769971e-01, -8.64939319e-02],\n",
       "        [ 7.92320069e-01, -3.83750067e-01,  7.60673248e-01, ...,\n",
       "         -1.25950660e+00, -1.83463172e+00, -3.79737211e-02],\n",
       "        [-1.33242480e-01, -4.73495447e-01,  1.00473557e+00, ...,\n",
       "         -2.04185118e-01, -5.51008796e-02,  1.26752761e+00]],\n",
       "\n",
       "       [[ 3.79468368e-01,  1.17829383e-01,  4.18010734e-01, ...,\n",
       "          4.49394836e-01, -5.78737258e-02, -5.93763917e+00],\n",
       "        [-1.95470896e-01,  3.01472399e-01,  2.40322049e-01, ...,\n",
       "          1.34769213e+00,  1.84679381e+00,  5.15295275e+00],\n",
       "        [ 3.16370311e-03, -1.70566814e-01, -1.85229935e-01, ...,\n",
       "          2.59875257e-01, -5.18762100e-01, -2.25360467e+00],\n",
       "        ...,\n",
       "        [ 8.84046415e-01,  1.06274828e+00,  8.13326896e-01, ...,\n",
       "         -7.17490910e-02,  3.59459721e-01, -3.26843485e+00],\n",
       "        [-5.57746832e-01, -6.04141904e-01,  2.04329487e-01, ...,\n",
       "         -1.59890670e+00,  3.08772830e+00,  2.31021210e+00],\n",
       "        [-7.85630437e-01, -5.93454723e-01, -6.27580982e-02, ...,\n",
       "          1.78154463e+00,  1.69738470e+00, -2.58211861e+00]],\n",
       "\n",
       "       [[ 6.50644458e-01,  1.07330239e+00,  5.03067705e-01, ...,\n",
       "         -3.33687205e-01, -1.00291664e+00, -7.57522639e-01],\n",
       "        [-5.65539515e-01, -6.37439869e-01,  4.55575200e-01, ...,\n",
       "          2.37809977e-02, -2.71070685e-01, -7.05424832e-02],\n",
       "        [-9.85661039e-01, -1.20090389e+00, -1.01035624e+00, ...,\n",
       "         -1.69183832e+00,  8.13394562e-01, -1.44818300e+00],\n",
       "        ...,\n",
       "        [-4.17228860e-01,  3.11682864e-01,  6.13708464e-01, ...,\n",
       "         -1.21918431e+00, -4.30681595e-01, -1.40849583e-01],\n",
       "        [ 3.13239641e-01,  2.10328304e-01, -2.93377099e-01, ...,\n",
       "          1.04143095e+00, -1.18379802e+00, -5.32902182e-01],\n",
       "        [-4.27998457e-01, -1.91779098e-01, -1.68858493e-01, ...,\n",
       "         -9.76371994e-01,  2.82764952e-01,  7.84732202e-01]],\n",
       "\n",
       "       ...,\n",
       "\n",
       "       [[ 8.53973922e-02,  1.69817594e-02, -2.29249192e-02, ...,\n",
       "         -1.56696982e+00,  4.05950676e-01, -4.14759844e-01],\n",
       "        [-7.31378377e-01,  2.21088120e-01, -4.10814332e-01, ...,\n",
       "          3.07363736e-02, -4.80888219e-01, -3.19174629e+00],\n",
       "        [ 1.08721182e+00,  5.11996391e-01,  6.04632312e-01, ...,\n",
       "          1.62882001e-01, -5.59243330e-01, -3.38179280e+00],\n",
       "        ...,\n",
       "        [ 7.56967900e-02, -2.65004028e-01, -2.23664503e-02, ...,\n",
       "          9.13017455e-02,  1.86787567e+00,  4.21895499e+00],\n",
       "        [ 1.57307528e-01,  4.17726153e-01,  7.01756291e-01, ...,\n",
       "         -1.91998500e-01, -1.81766436e+00, -3.39437396e+00],\n",
       "        [-1.70043568e-01, -4.78973844e-01, -1.35707806e-01, ...,\n",
       "         -9.45444703e-01,  2.47385445e-01,  6.98015164e-02]],\n",
       "\n",
       "       [[ 3.39415628e-02, -3.15897594e-01, -4.10272852e-01, ...,\n",
       "         -3.60050666e-01, -5.52593037e-01, -5.25506825e+00],\n",
       "        [ 3.00822737e-01,  1.40167520e-02, -1.06863147e+00, ...,\n",
       "         -1.01406465e+00, -1.34811437e+00,  2.83652086e+00],\n",
       "        [-8.58252561e-01, -5.81689701e-01, -4.35948112e-01, ...,\n",
       "         -3.77299440e-01, -2.38527395e-02,  1.43826081e+00],\n",
       "        ...,\n",
       "        [-3.17041641e-02, -3.72100828e-01, -4.26970924e-01, ...,\n",
       "          3.04439659e-01,  1.03278296e+00,  2.03752690e+00],\n",
       "        [-1.32192207e+00, -7.07497744e-01, -3.84776566e-01, ...,\n",
       "         -5.20891273e-01, -2.76200093e-01,  4.17399003e+00],\n",
       "        [-1.51028702e-01, -2.24579496e-01, -9.52049103e-01, ...,\n",
       "          8.53317610e-01, -1.42743278e+00,  9.07105215e-01]],\n",
       "\n",
       "       [[-2.70237747e-01, -2.62349433e-01,  2.65500073e-01, ...,\n",
       "          2.29779845e-01,  9.81169251e-01,  1.64587856e+00],\n",
       "        [ 3.98651708e-01,  4.33676371e-01,  3.40049730e-01, ...,\n",
       "         -3.65673557e-01, -6.29111317e-01, -1.43397369e+00],\n",
       "        [-5.29982871e-01,  5.97704919e-01, -1.96257739e-01, ...,\n",
       "          2.71888398e-01, -1.01956912e+00,  4.26813560e-01],\n",
       "        ...,\n",
       "        [ 7.21566917e-01,  1.00012819e+00,  4.01005735e-01, ...,\n",
       "          5.31114455e-02,  1.23396228e+00, -2.16659487e+00],\n",
       "        [-7.84536275e-01, -7.41390326e-01, -5.25152257e-01, ...,\n",
       "          1.26378556e+00,  1.17428086e+00,  2.87412696e-01],\n",
       "        [ 3.28481679e-01, -4.04118323e-03,  8.97504597e-02, ...,\n",
       "         -4.39742020e-01, -7.16780240e-01,  1.45883778e+00]]])"
      ]
     },
     "execution_count": 19,
     "metadata": {},
     "output_type": "execute_result"
    }
   ],
   "source": [
    "df.iloc[0].item()"
   ]
  },
  {
   "cell_type": "code",
   "execution_count": null,
   "metadata": {
    "colab": {
     "base_uri": "https://localhost:8080/"
    },
    "id": "0XnPcpNIsgZP",
    "outputId": "507120e9-d913-4dcf-a638-7e25758a0688"
   },
   "outputs": [
    {
     "name": "stdout",
     "output_type": "stream",
     "text": [
      "Collecting nilearn\n",
      "  Downloading nilearn-0.11.1-py3-none-any.whl.metadata (9.3 kB)\n",
      "Requirement already satisfied: joblib>=1.2.0 in /usr/local/lib/python3.11/dist-packages (from nilearn) (1.4.2)\n",
      "Requirement already satisfied: lxml in /usr/local/lib/python3.11/dist-packages (from nilearn) (5.3.0)\n",
      "Requirement already satisfied: nibabel>=5.2.0 in /usr/local/lib/python3.11/dist-packages (from nilearn) (5.3.2)\n",
      "Requirement already satisfied: numpy>=1.22.4 in /usr/local/lib/python3.11/dist-packages (from nilearn) (1.26.4)\n",
      "Requirement already satisfied: packaging in /usr/local/lib/python3.11/dist-packages (from nilearn) (24.2)\n",
      "Requirement already satisfied: pandas>=2.2.0 in /usr/local/lib/python3.11/dist-packages (from nilearn) (2.2.2)\n",
      "Requirement already satisfied: requests>=2.25.0 in /usr/local/lib/python3.11/dist-packages (from nilearn) (2.32.3)\n",
      "Requirement already satisfied: scikit-learn>=1.4.0 in /usr/local/lib/python3.11/dist-packages (from nilearn) (1.6.1)\n",
      "Requirement already satisfied: scipy>=1.8.0 in /usr/local/lib/python3.11/dist-packages (from nilearn) (1.13.1)\n",
      "Requirement already satisfied: importlib-resources>=5.12 in /usr/local/lib/python3.11/dist-packages (from nibabel>=5.2.0->nilearn) (6.5.2)\n",
      "Requirement already satisfied: typing-extensions>=4.6 in /usr/local/lib/python3.11/dist-packages (from nibabel>=5.2.0->nilearn) (4.12.2)\n",
      "Requirement already satisfied: python-dateutil>=2.8.2 in /usr/local/lib/python3.11/dist-packages (from pandas>=2.2.0->nilearn) (2.8.2)\n",
      "Requirement already satisfied: pytz>=2020.1 in /usr/local/lib/python3.11/dist-packages (from pandas>=2.2.0->nilearn) (2024.2)\n",
      "Requirement already satisfied: tzdata>=2022.7 in /usr/local/lib/python3.11/dist-packages (from pandas>=2.2.0->nilearn) (2025.1)\n",
      "Requirement already satisfied: charset-normalizer<4,>=2 in /usr/local/lib/python3.11/dist-packages (from requests>=2.25.0->nilearn) (3.4.1)\n",
      "Requirement already satisfied: idna<4,>=2.5 in /usr/local/lib/python3.11/dist-packages (from requests>=2.25.0->nilearn) (3.10)\n",
      "Requirement already satisfied: urllib3<3,>=1.21.1 in /usr/local/lib/python3.11/dist-packages (from requests>=2.25.0->nilearn) (2.3.0)\n",
      "Requirement already satisfied: certifi>=2017.4.17 in /usr/local/lib/python3.11/dist-packages (from requests>=2.25.0->nilearn) (2024.12.14)\n",
      "Requirement already satisfied: threadpoolctl>=3.1.0 in /usr/local/lib/python3.11/dist-packages (from scikit-learn>=1.4.0->nilearn) (3.5.0)\n",
      "Requirement already satisfied: six>=1.5 in /usr/local/lib/python3.11/dist-packages (from python-dateutil>=2.8.2->pandas>=2.2.0->nilearn) (1.17.0)\n",
      "Downloading nilearn-0.11.1-py3-none-any.whl (10.5 MB)\n",
      "\u001B[2K   \u001B[90m━━━━━━━━━━━━━━━━━━━━━━━━━━━━━━━━━━━━━━━━\u001B[0m \u001B[32m10.5/10.5 MB\u001B[0m \u001B[31m48.2 MB/s\u001B[0m eta \u001B[36m0:00:00\u001B[0m\n",
      "\u001B[?25hInstalling collected packages: nilearn\n",
      "Successfully installed nilearn-0.11.1\n"
     ]
    }
   ],
   "source": [
    "!pip install nilearn"
   ]
  },
  {
   "cell_type": "code",
   "execution_count": null,
   "metadata": {
    "colab": {
     "base_uri": "https://localhost:8080/",
     "height": 241
    },
    "id": "EoyVU3Og5A8u",
    "outputId": "0ac4fc41-5774-4991-c961-d030a5fa907f"
   },
   "outputs": [
    {
     "data": {
      "text/html": [
       "<div>\n",
       "<style scoped>\n",
       "    .dataframe tbody tr th:only-of-type {\n",
       "        vertical-align: middle;\n",
       "    }\n",
       "\n",
       "    .dataframe tbody tr th {\n",
       "        vertical-align: top;\n",
       "    }\n",
       "\n",
       "    .dataframe thead tr th {\n",
       "        text-align: left;\n",
       "    }\n",
       "</style>\n",
       "<table border=\"1\" class=\"dataframe\">\n",
       "  <thead>\n",
       "    <tr>\n",
       "      <th></th>\n",
       "      <th>AAL</th>\n",
       "    </tr>\n",
       "    <tr>\n",
       "      <th></th>\n",
       "      <th>rmet</th>\n",
       "    </tr>\n",
       "    <tr>\n",
       "      <th></th>\n",
       "      <th>close</th>\n",
       "    </tr>\n",
       "    <tr>\n",
       "      <th></th>\n",
       "      <th>3</th>\n",
       "    </tr>\n",
       "    <tr>\n",
       "      <th></th>\n",
       "      <th>GSR</th>\n",
       "    </tr>\n",
       "  </thead>\n",
       "  <tbody>\n",
       "    <tr>\n",
       "      <th>0</th>\n",
       "      <td>[[[0.8165110807596462, -0.5689161667585938, 1....</td>\n",
       "    </tr>\n",
       "  </tbody>\n",
       "</table>\n",
       "</div><br><label><b>dtype:</b> object</label>"
      ],
      "text/plain": [
       "0    [[[0.8165110807596462, -0.5689161667585938, 1....\n",
       "Name: (AAL, rmet, close, 3, GSR), dtype: object"
      ]
     },
     "execution_count": 51,
     "metadata": {},
     "output_type": "execute_result"
    }
   ],
   "source": [
    "df.iloc[2]"
   ]
  },
  {
   "cell_type": "code",
   "execution_count": null,
   "metadata": {
    "colab": {
     "base_uri": "https://localhost:8080/",
     "height": 387
    },
    "id": "HZRTbhHZx4Ce",
    "outputId": "730c475e-93b5-44b1-ba7f-8568cf33d44a"
   },
   "outputs": [
    {
     "data": {
      "image/png": "[encoded data removed]",
      "text/plain": [
       "<Figure size 730x350 with 5 Axes>"
      ]
     },
     "metadata": {},
     "output_type": "display_data"
    }
   ],
   "source": [
    "from nilearn import plotting\n",
    "from nibabel import Nifti1Image\n",
    "from nilearn import image\n",
    "\n",
    "# Предположим, что у тебя есть ndarray с именем 'data' с формой (63, 120, 116)\n",
    "data = df.iloc[2].item()\n",
    "\n",
    "# Создаем объект Nifti1Image, который можно передать в nilearn\n",
    "img = Nifti1Image(data, affine=np.eye(4))\n",
    "smoothed_img = image.smooth_img(img, fwhm=6)\n",
    "# Используем nilearn для визуализации\n",
    "plotting.plot_stat_map(img, title=\"3D Brain MRI\", threshold=0.5,resampling_interpolation='continuous')\n",
    "plotting.show()\n"
   ]
  },
  {
   "cell_type": "code",
   "execution_count": null,
   "metadata": {
    "colab": {
     "base_uri": "https://localhost:8080/",
     "height": 1000
    },
    "id": "B3BKW1f5xt80",
    "outputId": "08b8c98a-7927-4bcc-b755-b53026173370"
   },
   "outputs": [
    {
     "data": {
      "text/html": [
       "<pre style=\"white-space:pre;overflow-x:auto;line-height:normal;font-family:Menlo,'DejaVu Sans Mono',consolas,'Courier New',monospace\"><span style=\"color: #000080; text-decoration-color: #000080; font-weight: bold\">[</span><span style=\"color: #000080; text-decoration-color: #000080\">_add_readme_to_default_data_locations</span><span style=\"color: #000080; text-decoration-color: #000080; font-weight: bold\">]</span> Added README.md to <span style=\"color: #800080; text-decoration-color: #800080\">/root/</span><span style=\"color: #ff00ff; text-decoration-color: #ff00ff\">nilearn_data</span>\n",
       "</pre>\n"
      ],
      "text/plain": [
       "\u001B[1;34m[\u001B[0m\u001B[34m_add_readme_to_default_data_locations\u001B[0m\u001B[1;34m]\u001B[0m Added README.md to \u001B[35m/root/\u001B[0m\u001B[95mnilearn_data\u001B[0m\n"
      ]
     },
     "metadata": {},
     "output_type": "display_data"
    },
    {
     "data": {
      "text/html": [
       "<pre style=\"white-space:pre;overflow-x:auto;line-height:normal;font-family:Menlo,'DejaVu Sans Mono',consolas,'Courier New',monospace\"><span style=\"color: #000080; text-decoration-color: #000080; font-weight: bold\">[</span><span style=\"color: #000080; text-decoration-color: #000080\">get_dataset_dir</span><span style=\"color: #000080; text-decoration-color: #000080; font-weight: bold\">]</span> Dataset created in <span style=\"color: #800080; text-decoration-color: #800080\">/root/nilearn_data/</span><span style=\"color: #ff00ff; text-decoration-color: #ff00ff\">spm_auditory</span>\n",
       "</pre>\n"
      ],
      "text/plain": [
       "\u001B[1;34m[\u001B[0m\u001B[34mget_dataset_dir\u001B[0m\u001B[1;34m]\u001B[0m Dataset created in \u001B[35m/root/nilearn_data/\u001B[0m\u001B[95mspm_auditory\u001B[0m\n"
      ]
     },
     "metadata": {},
     "output_type": "display_data"
    },
    {
     "data": {
      "text/html": [
       "<pre style=\"white-space:pre;overflow-x:auto;line-height:normal;font-family:Menlo,'DejaVu Sans Mono',consolas,'Courier New',monospace\"><span style=\"color: #000080; text-decoration-color: #000080; font-weight: bold\">[</span><span style=\"color: #000080; text-decoration-color: #000080\">fetch_spm_auditory</span><span style=\"color: #000080; text-decoration-color: #000080; font-weight: bold\">]</span> Data absent, downloading<span style=\"color: #808000; text-decoration-color: #808000\">...</span>\n",
       "</pre>\n"
      ],
      "text/plain": [
       "\u001B[1;34m[\u001B[0m\u001B[34mfetch_spm_auditory\u001B[0m\u001B[1;34m]\u001B[0m Data absent, downloading\u001B[33m...\u001B[0m\n"
      ]
     },
     "metadata": {},
     "output_type": "display_data"
    },
    {
     "data": {
      "text/html": [
       "<pre style=\"white-space:pre;overflow-x:auto;line-height:normal;font-family:Menlo,'DejaVu Sans Mono',consolas,'Courier New',monospace\"><span style=\"color: #000080; text-decoration-color: #000080; font-weight: bold\">[</span><span style=\"color: #000080; text-decoration-color: #000080\">fetch_single_file</span><span style=\"color: #000080; text-decoration-color: #000080; font-weight: bold\">]</span> Downloading data from \n",
       "<span style=\"color: #0000ff; text-decoration-color: #0000ff; text-decoration: underline\">https://www.fil.ion.ucl.ac.uk/spm/download/data/MoAEpilot/MoAEpilot.bids.zip</span> <span style=\"color: #808000; text-decoration-color: #808000\">...</span>\n",
       "</pre>\n"
      ],
      "text/plain": [
       "\u001B[1;34m[\u001B[0m\u001B[34mfetch_single_file\u001B[0m\u001B[1;34m]\u001B[0m Downloading data from \n",
       "\u001B[4;94mhttps://www.fil.ion.ucl.ac.uk/spm/download/data/MoAEpilot/MoAEpilot.bids.zip\u001B[0m \u001B[33m...\u001B[0m\n"
      ]
     },
     "metadata": {},
     "output_type": "display_data"
    },
    {
     "data": {
      "text/html": [
       "<pre style=\"white-space:pre;overflow-x:auto;line-height:normal;font-family:Menlo,'DejaVu Sans Mono',consolas,'Courier New',monospace\"><span style=\"color: #000080; text-decoration-color: #000080; font-weight: bold\">[</span><span style=\"color: #000080; text-decoration-color: #000080\">_chunk_report_</span><span style=\"color: #000080; text-decoration-color: #000080; font-weight: bold\">]</span> Downloaded <span style=\"color: #008080; text-decoration-color: #008080; font-weight: bold\">2727936</span> of <span style=\"color: #008080; text-decoration-color: #008080; font-weight: bold\">30176409</span> bytes <span style=\"font-weight: bold\">(</span><span style=\"color: #008080; text-decoration-color: #008080; font-weight: bold\">9.0</span>%%,   <span style=\"color: #008080; text-decoration-color: #008080; font-weight: bold\">10.</span>2s remaining<span style=\"font-weight: bold\">)</span>\n",
       "</pre>\n"
      ],
      "text/plain": [
       "\u001B[1;34m[\u001B[0m\u001B[34m_chunk_report_\u001B[0m\u001B[1;34m]\u001B[0m Downloaded \u001B[1;36m2727936\u001B[0m of \u001B[1;36m30176409\u001B[0m bytes \u001B[1m(\u001B[0m\u001B[1;36m9.0\u001B[0m%%,   \u001B[1;36m10.\u001B[0m2s remaining\u001B[1m)\u001B[0m\n"
      ]
     },
     "metadata": {},
     "output_type": "display_data"
    },
    {
     "data": {
      "text/html": [
       "<pre style=\"white-space:pre;overflow-x:auto;line-height:normal;font-family:Menlo,'DejaVu Sans Mono',consolas,'Courier New',monospace\"><span style=\"color: #000080; text-decoration-color: #000080; font-weight: bold\">[</span><span style=\"color: #000080; text-decoration-color: #000080\">_chunk_report_</span><span style=\"color: #000080; text-decoration-color: #000080; font-weight: bold\">]</span> Downloaded <span style=\"color: #008080; text-decoration-color: #008080; font-weight: bold\">7561216</span> of <span style=\"color: #008080; text-decoration-color: #008080; font-weight: bold\">30176409</span> bytes <span style=\"font-weight: bold\">(</span><span style=\"color: #008080; text-decoration-color: #008080; font-weight: bold\">25.1</span>%%,    <span style=\"color: #008080; text-decoration-color: #008080; font-weight: bold\">6.</span>1s remaining<span style=\"font-weight: bold\">)</span>\n",
       "</pre>\n"
      ],
      "text/plain": [
       "\u001B[1;34m[\u001B[0m\u001B[34m_chunk_report_\u001B[0m\u001B[1;34m]\u001B[0m Downloaded \u001B[1;36m7561216\u001B[0m of \u001B[1;36m30176409\u001B[0m bytes \u001B[1m(\u001B[0m\u001B[1;36m25.1\u001B[0m%%,    \u001B[1;36m6.\u001B[0m1s remaining\u001B[1m)\u001B[0m\n"
      ]
     },
     "metadata": {},
     "output_type": "display_data"
    },
    {
     "data": {
      "text/html": [
       "<pre style=\"white-space:pre;overflow-x:auto;line-height:normal;font-family:Menlo,'DejaVu Sans Mono',consolas,'Courier New',monospace\"><span style=\"color: #000080; text-decoration-color: #000080; font-weight: bold\">[</span><span style=\"color: #000080; text-decoration-color: #000080\">_chunk_report_</span><span style=\"color: #000080; text-decoration-color: #000080; font-weight: bold\">]</span> Downloaded <span style=\"color: #008080; text-decoration-color: #008080; font-weight: bold\">12451840</span> of <span style=\"color: #008080; text-decoration-color: #008080; font-weight: bold\">30176409</span> bytes <span style=\"font-weight: bold\">(</span><span style=\"color: #008080; text-decoration-color: #008080; font-weight: bold\">41.3</span>%%,    <span style=\"color: #008080; text-decoration-color: #008080; font-weight: bold\">4.</span>3s remaining<span style=\"font-weight: bold\">)</span>\n",
       "</pre>\n"
      ],
      "text/plain": [
       "\u001B[1;34m[\u001B[0m\u001B[34m_chunk_report_\u001B[0m\u001B[1;34m]\u001B[0m Downloaded \u001B[1;36m12451840\u001B[0m of \u001B[1;36m30176409\u001B[0m bytes \u001B[1m(\u001B[0m\u001B[1;36m41.3\u001B[0m%%,    \u001B[1;36m4.\u001B[0m3s remaining\u001B[1m)\u001B[0m\n"
      ]
     },
     "metadata": {},
     "output_type": "display_data"
    },
    {
     "data": {
      "text/html": [
       "<pre style=\"white-space:pre;overflow-x:auto;line-height:normal;font-family:Menlo,'DejaVu Sans Mono',consolas,'Courier New',monospace\"><span style=\"color: #000080; text-decoration-color: #000080; font-weight: bold\">[</span><span style=\"color: #000080; text-decoration-color: #000080\">_chunk_report_</span><span style=\"color: #000080; text-decoration-color: #000080; font-weight: bold\">]</span> Downloaded <span style=\"color: #008080; text-decoration-color: #008080; font-weight: bold\">16375808</span> of <span style=\"color: #008080; text-decoration-color: #008080; font-weight: bold\">30176409</span> bytes <span style=\"font-weight: bold\">(</span><span style=\"color: #008080; text-decoration-color: #008080; font-weight: bold\">54.3</span>%%,    <span style=\"color: #008080; text-decoration-color: #008080; font-weight: bold\">3.</span>4s remaining<span style=\"font-weight: bold\">)</span>\n",
       "</pre>\n"
      ],
      "text/plain": [
       "\u001B[1;34m[\u001B[0m\u001B[34m_chunk_report_\u001B[0m\u001B[1;34m]\u001B[0m Downloaded \u001B[1;36m16375808\u001B[0m of \u001B[1;36m30176409\u001B[0m bytes \u001B[1m(\u001B[0m\u001B[1;36m54.3\u001B[0m%%,    \u001B[1;36m3.\u001B[0m4s remaining\u001B[1m)\u001B[0m\n"
      ]
     },
     "metadata": {},
     "output_type": "display_data"
    },
    {
     "data": {
      "text/html": [
       "<pre style=\"white-space:pre;overflow-x:auto;line-height:normal;font-family:Menlo,'DejaVu Sans Mono',consolas,'Courier New',monospace\"><span style=\"color: #000080; text-decoration-color: #000080; font-weight: bold\">[</span><span style=\"color: #000080; text-decoration-color: #000080\">_chunk_report_</span><span style=\"color: #000080; text-decoration-color: #000080; font-weight: bold\">]</span> Downloaded <span style=\"color: #008080; text-decoration-color: #008080; font-weight: bold\">20480000</span> of <span style=\"color: #008080; text-decoration-color: #008080; font-weight: bold\">30176409</span> bytes <span style=\"font-weight: bold\">(</span><span style=\"color: #008080; text-decoration-color: #008080; font-weight: bold\">67.9</span>%%,    <span style=\"color: #008080; text-decoration-color: #008080; font-weight: bold\">2.</span>4s remaining<span style=\"font-weight: bold\">)</span>\n",
       "</pre>\n"
      ],
      "text/plain": [
       "\u001B[1;34m[\u001B[0m\u001B[34m_chunk_report_\u001B[0m\u001B[1;34m]\u001B[0m Downloaded \u001B[1;36m20480000\u001B[0m of \u001B[1;36m30176409\u001B[0m bytes \u001B[1m(\u001B[0m\u001B[1;36m67.9\u001B[0m%%,    \u001B[1;36m2.\u001B[0m4s remaining\u001B[1m)\u001B[0m\n"
      ]
     },
     "metadata": {},
     "output_type": "display_data"
    },
    {
     "data": {
      "text/html": [
       "<pre style=\"white-space:pre;overflow-x:auto;line-height:normal;font-family:Menlo,'DejaVu Sans Mono',consolas,'Courier New',monospace\"><span style=\"color: #000080; text-decoration-color: #000080; font-weight: bold\">[</span><span style=\"color: #000080; text-decoration-color: #000080\">_chunk_report_</span><span style=\"color: #000080; text-decoration-color: #000080; font-weight: bold\">]</span> Downloaded <span style=\"color: #008080; text-decoration-color: #008080; font-weight: bold\">24551424</span> of <span style=\"color: #008080; text-decoration-color: #008080; font-weight: bold\">30176409</span> bytes <span style=\"font-weight: bold\">(</span><span style=\"color: #008080; text-decoration-color: #008080; font-weight: bold\">81.4</span>%%,    <span style=\"color: #008080; text-decoration-color: #008080; font-weight: bold\">1.</span>4s remaining<span style=\"font-weight: bold\">)</span>\n",
       "</pre>\n"
      ],
      "text/plain": [
       "\u001B[1;34m[\u001B[0m\u001B[34m_chunk_report_\u001B[0m\u001B[1;34m]\u001B[0m Downloaded \u001B[1;36m24551424\u001B[0m of \u001B[1;36m30176409\u001B[0m bytes \u001B[1m(\u001B[0m\u001B[1;36m81.4\u001B[0m%%,    \u001B[1;36m1.\u001B[0m4s remaining\u001B[1m)\u001B[0m\n"
      ]
     },
     "metadata": {},
     "output_type": "display_data"
    },
    {
     "data": {
      "text/html": [
       "<pre style=\"white-space:pre;overflow-x:auto;line-height:normal;font-family:Menlo,'DejaVu Sans Mono',consolas,'Courier New',monospace\"><span style=\"color: #000080; text-decoration-color: #000080; font-weight: bold\">[</span><span style=\"color: #000080; text-decoration-color: #000080\">_chunk_report_</span><span style=\"color: #000080; text-decoration-color: #000080; font-weight: bold\">]</span> Downloaded <span style=\"color: #008080; text-decoration-color: #008080; font-weight: bold\">28712960</span> of <span style=\"color: #008080; text-decoration-color: #008080; font-weight: bold\">30176409</span> bytes <span style=\"font-weight: bold\">(</span><span style=\"color: #008080; text-decoration-color: #008080; font-weight: bold\">95.2</span>%%,    <span style=\"color: #008080; text-decoration-color: #008080; font-weight: bold\">0.</span>4s remaining<span style=\"font-weight: bold\">)</span>\n",
       "</pre>\n"
      ],
      "text/plain": [
       "\u001B[1;34m[\u001B[0m\u001B[34m_chunk_report_\u001B[0m\u001B[1;34m]\u001B[0m Downloaded \u001B[1;36m28712960\u001B[0m of \u001B[1;36m30176409\u001B[0m bytes \u001B[1m(\u001B[0m\u001B[1;36m95.2\u001B[0m%%,    \u001B[1;36m0.\u001B[0m4s remaining\u001B[1m)\u001B[0m\n"
      ]
     },
     "metadata": {},
     "output_type": "display_data"
    },
    {
     "data": {
      "text/html": [
       "<pre style=\"white-space:pre;overflow-x:auto;line-height:normal;font-family:Menlo,'DejaVu Sans Mono',consolas,'Courier New',monospace\"><span style=\"color: #000080; text-decoration-color: #000080; font-weight: bold\">[</span><span style=\"color: #000080; text-decoration-color: #000080\">fetch_single_file</span><span style=\"color: #000080; text-decoration-color: #000080; font-weight: bold\">]</span>  <span style=\"color: #808000; text-decoration-color: #808000\">...</span>done. <span style=\"font-weight: bold\">(</span><span style=\"color: #008080; text-decoration-color: #008080; font-weight: bold\">8</span> seconds, <span style=\"color: #008080; text-decoration-color: #008080; font-weight: bold\">0</span> min<span style=\"font-weight: bold\">)</span>\n",
       "\n",
       "</pre>\n"
      ],
      "text/plain": [
       "\u001B[1;34m[\u001B[0m\u001B[34mfetch_single_file\u001B[0m\u001B[1;34m]\u001B[0m  \u001B[33m...\u001B[0mdone. \u001B[1m(\u001B[0m\u001B[1;36m8\u001B[0m seconds, \u001B[1;36m0\u001B[0m min\u001B[1m)\u001B[0m\n",
       "\n"
      ]
     },
     "metadata": {},
     "output_type": "display_data"
    },
    {
     "data": {
      "text/html": [
       "<pre style=\"white-space:pre;overflow-x:auto;line-height:normal;font-family:Menlo,'DejaVu Sans Mono',consolas,'Courier New',monospace\"><span style=\"color: #000080; text-decoration-color: #000080; font-weight: bold\">[</span><span style=\"color: #000080; text-decoration-color: #000080\">uncompress_file</span><span style=\"color: #000080; text-decoration-color: #000080; font-weight: bold\">]</span> Extracting data from <span style=\"color: #800080; text-decoration-color: #800080\">/root/nilearn_data/spm_auditory/</span><span style=\"color: #ff00ff; text-decoration-color: #ff00ff\">MoAEpilot.bids.zip...</span>\n",
       "</pre>\n"
      ],
      "text/plain": [
       "\u001B[1;34m[\u001B[0m\u001B[34muncompress_file\u001B[0m\u001B[1;34m]\u001B[0m Extracting data from \u001B[35m/root/nilearn_data/spm_auditory/\u001B[0m\u001B[95mMoAEpilot.bids.zip...\u001B[0m\n"
      ]
     },
     "metadata": {},
     "output_type": "display_data"
    },
    {
     "data": {
      "text/html": [
       "<pre style=\"white-space:pre;overflow-x:auto;line-height:normal;font-family:Menlo,'DejaVu Sans Mono',consolas,'Courier New',monospace\"><span style=\"color: #000080; text-decoration-color: #000080; font-weight: bold\">[</span><span style=\"color: #000080; text-decoration-color: #000080\">uncompress_file</span><span style=\"color: #000080; text-decoration-color: #000080; font-weight: bold\">]</span> .. done.\n",
       "\n",
       "</pre>\n"
      ],
      "text/plain": [
       "\u001B[1;34m[\u001B[0m\u001B[34muncompress_file\u001B[0m\u001B[1;34m]\u001B[0m .. done.\n",
       "\n"
      ]
     },
     "metadata": {},
     "output_type": "display_data"
    },
    {
     "data": {
      "image/png": "[encoded data removed]",
      "text/plain": [
       "<Figure size 730x350 with 5 Axes>"
      ]
     },
     "metadata": {},
     "output_type": "display_data"
    },
    {
     "data": {
      "image/png": "[encoded data removed]",
      "text/plain": [
       "<Figure size 730x350 with 5 Axes>"
      ]
     },
     "metadata": {},
     "output_type": "display_data"
    }
   ],
   "source": [
    "from nilearn.datasets import fetch_spm_auditory\n",
    "\n",
    "subject_data = fetch_spm_auditory()\n",
    "\n",
    "from nilearn.image import mean_img\n",
    "from nilearn.plotting import plot_anat, plot_img, plot_stat_map, show\n",
    "\n",
    "fmri_img = subject_data.func\n",
    "mean_img = mean_img(subject_data.func[0], copy_header=True)\n",
    "plot_img(mean_img, colorbar=True, cbar_tick_format=\"%i\")\n",
    "\n",
    "plot_anat(subject_data.anat, colorbar=True, cbar_tick_format=\"%i\")\n",
    "\n",
    "show()"
   ]
  },
  {
   "cell_type": "code",
   "execution_count": null,
   "metadata": {
    "colab": {
     "base_uri": "https://localhost:8080/",
     "height": 238
    },
    "id": "YuuiARbr1boP",
    "outputId": "a8291ef8-69f2-4dad-b23e-0c13bce51b31"
   },
   "outputs": [
    {
     "data": {
      "application/vnd.google.colaboratory.intrinsic+json": {
       "summary": "{\n  \"name\": \"df\",\n  \"rows\": 32,\n  \"fields\": [\n    {\n      \"column\": 0,\n      \"properties\": {\n        \"dtype\": \"object\",\n        \"semantic_type\": \"\",\n        \"description\": \"\"\n      }\n    }\n  ]\n}",
       "type": "dataframe",
       "variable_name": "df"
      },
      "text/html": [
       "\n",
       "  <div id=\"df-99106203-67b0-4acf-aa07-df96811922fe\" class=\"colab-df-container\">\n",
       "    <div>\n",
       "<style scoped>\n",
       "    .dataframe tbody tr th:only-of-type {\n",
       "        vertical-align: middle;\n",
       "    }\n",
       "\n",
       "    .dataframe tbody tr th {\n",
       "        vertical-align: top;\n",
       "    }\n",
       "\n",
       "    .dataframe thead th {\n",
       "        text-align: right;\n",
       "    }\n",
       "</style>\n",
       "<table border=\"1\" class=\"dataframe\">\n",
       "  <thead>\n",
       "    <tr style=\"text-align: right;\">\n",
       "      <th></th>\n",
       "      <th></th>\n",
       "      <th></th>\n",
       "      <th></th>\n",
       "      <th></th>\n",
       "      <th>0</th>\n",
       "    </tr>\n",
       "    <tr>\n",
       "      <th>atlas</th>\n",
       "      <th>dataset</th>\n",
       "      <th>class</th>\n",
       "      <th>strategy</th>\n",
       "      <th>GSR</th>\n",
       "      <th></th>\n",
       "    </tr>\n",
       "  </thead>\n",
       "  <tbody>\n",
       "    <tr>\n",
       "      <th rowspan=\"5\" valign=\"top\">AAL</th>\n",
       "      <th rowspan=\"5\" valign=\"top\">rmet</th>\n",
       "      <th rowspan=\"4\" valign=\"top\">close</th>\n",
       "      <th rowspan=\"2\" valign=\"top\">2</th>\n",
       "      <th>GSR</th>\n",
       "      <td>[[[0.49872941386279845, -0.8318829721130215, 1...</td>\n",
       "    </tr>\n",
       "    <tr>\n",
       "      <th>noGSR</th>\n",
       "      <td>[[[0.678245159604991, -0.25980114630165074, 0....</td>\n",
       "    </tr>\n",
       "    <tr>\n",
       "      <th rowspan=\"2\" valign=\"top\">3</th>\n",
       "      <th>GSR</th>\n",
       "      <td>[[[0.8165110807596462, -0.5689161667585938, 1....</td>\n",
       "    </tr>\n",
       "    <tr>\n",
       "      <th>noGSR</th>\n",
       "      <td>[[[0.9840598021404207, -0.07008979256868253, 0...</td>\n",
       "    </tr>\n",
       "    <tr>\n",
       "      <th>open</th>\n",
       "      <th>2</th>\n",
       "      <th>GSR</th>\n",
       "      <td>[[[0.02001187235572125, -0.07345551936605457, ...</td>\n",
       "    </tr>\n",
       "  </tbody>\n",
       "</table>\n",
       "</div>\n",
       "    <div class=\"colab-df-buttons\">\n",
       "\n",
       "  <div class=\"colab-df-container\">\n",
       "    <button class=\"colab-df-convert\" onclick=\"convertToInteractive('df-99106203-67b0-4acf-aa07-df96811922fe')\"\n",
       "            title=\"Convert this dataframe to an interactive table.\"\n",
       "            style=\"display:none;\">\n",
       "\n",
       "  <svg xmlns=\"http://www.w3.org/2000/svg\" height=\"24px\" viewBox=\"0 -960 960 960\">\n",
       "    <path d=\"M120-120v-720h720v720H120Zm60-500h600v-160H180v160Zm220 220h160v-160H400v160Zm0 220h160v-160H400v160ZM180-400h160v-160H180v160Zm440 0h160v-160H620v160ZM180-180h160v-160H180v160Zm440 0h160v-160H620v160Z\"/>\n",
       "  </svg>\n",
       "    </button>\n",
       "\n",
       "  <style>\n",
       "    .colab-df-container {\n",
       "      display:flex;\n",
       "      gap: 12px;\n",
       "    }\n",
       "\n",
       "    .colab-df-convert {\n",
       "      background-color: #E8F0FE;\n",
       "      border: none;\n",
       "      border-radius: 50%;\n",
       "      cursor: pointer;\n",
       "      display: none;\n",
       "      fill: #1967D2;\n",
       "      height: 32px;\n",
       "      padding: 0 0 0 0;\n",
       "      width: 32px;\n",
       "    }\n",
       "\n",
       "    .colab-df-convert:hover {\n",
       "      background-color: #E2EBFA;\n",
       "      box-shadow: 0px 1px 2px rgba(60, 64, 67, 0.3), 0px 1px 3px 1px rgba(60, 64, 67, 0.15);\n",
       "      fill: #174EA6;\n",
       "    }\n",
       "\n",
       "    .colab-df-buttons div {\n",
       "      margin-bottom: 4px;\n",
       "    }\n",
       "\n",
       "    [theme=dark] .colab-df-convert {\n",
       "      background-color: #3B4455;\n",
       "      fill: #D2E3FC;\n",
       "    }\n",
       "\n",
       "    [theme=dark] .colab-df-convert:hover {\n",
       "      background-color: #434B5C;\n",
       "      box-shadow: 0px 1px 3px 1px rgba(0, 0, 0, 0.15);\n",
       "      filter: drop-shadow(0px 1px 2px rgba(0, 0, 0, 0.3));\n",
       "      fill: #FFFFFF;\n",
       "    }\n",
       "  </style>\n",
       "\n",
       "    <script>\n",
       "      const buttonEl =\n",
       "        document.querySelector('#df-99106203-67b0-4acf-aa07-df96811922fe button.colab-df-convert');\n",
       "      buttonEl.style.display =\n",
       "        google.colab.kernel.accessAllowed ? 'block' : 'none';\n",
       "\n",
       "      async function convertToInteractive(key) {\n",
       "        const element = document.querySelector('#df-99106203-67b0-4acf-aa07-df96811922fe');\n",
       "        const dataTable =\n",
       "          await google.colab.kernel.invokeFunction('convertToInteractive',\n",
       "                                                    [key], {});\n",
       "        if (!dataTable) return;\n",
       "\n",
       "        const docLinkHtml = 'Like what you see? Visit the ' +\n",
       "          '<a target=\"_blank\" href=https://colab.research.google.com/notebooks/data_table.ipynb>data table notebook</a>'\n",
       "          + ' to learn more about interactive tables.';\n",
       "        element.innerHTML = '';\n",
       "        dataTable['output_type'] = 'display_data';\n",
       "        await google.colab.output.renderOutput(dataTable, element);\n",
       "        const docLink = document.createElement('div');\n",
       "        docLink.innerHTML = docLinkHtml;\n",
       "        element.appendChild(docLink);\n",
       "      }\n",
       "    </script>\n",
       "  </div>\n",
       "\n",
       "\n",
       "<div id=\"df-3aba508a-b7d6-42e8-9133-7f6f77c1b7eb\">\n",
       "  <button class=\"colab-df-quickchart\" onclick=\"quickchart('df-3aba508a-b7d6-42e8-9133-7f6f77c1b7eb')\"\n",
       "            title=\"Suggest charts\"\n",
       "            style=\"display:none;\">\n",
       "\n",
       "<svg xmlns=\"http://www.w3.org/2000/svg\" height=\"24px\"viewBox=\"0 0 24 24\"\n",
       "     width=\"24px\">\n",
       "    <g>\n",
       "        <path d=\"M19 3H5c-1.1 0-2 .9-2 2v14c0 1.1.9 2 2 2h14c1.1 0 2-.9 2-2V5c0-1.1-.9-2-2-2zM9 17H7v-7h2v7zm4 0h-2V7h2v10zm4 0h-2v-4h2v4z\"/>\n",
       "    </g>\n",
       "</svg>\n",
       "  </button>\n",
       "\n",
       "<style>\n",
       "  .colab-df-quickchart {\n",
       "      --bg-color: #E8F0FE;\n",
       "      --fill-color: #1967D2;\n",
       "      --hover-bg-color: #E2EBFA;\n",
       "      --hover-fill-color: #174EA6;\n",
       "      --disabled-fill-color: #AAA;\n",
       "      --disabled-bg-color: #DDD;\n",
       "  }\n",
       "\n",
       "  [theme=dark] .colab-df-quickchart {\n",
       "      --bg-color: #3B4455;\n",
       "      --fill-color: #D2E3FC;\n",
       "      --hover-bg-color: #434B5C;\n",
       "      --hover-fill-color: #FFFFFF;\n",
       "      --disabled-bg-color: #3B4455;\n",
       "      --disabled-fill-color: #666;\n",
       "  }\n",
       "\n",
       "  .colab-df-quickchart {\n",
       "    background-color: var(--bg-color);\n",
       "    border: none;\n",
       "    border-radius: 50%;\n",
       "    cursor: pointer;\n",
       "    display: none;\n",
       "    fill: var(--fill-color);\n",
       "    height: 32px;\n",
       "    padding: 0;\n",
       "    width: 32px;\n",
       "  }\n",
       "\n",
       "  .colab-df-quickchart:hover {\n",
       "    background-color: var(--hover-bg-color);\n",
       "    box-shadow: 0 1px 2px rgba(60, 64, 67, 0.3), 0 1px 3px 1px rgba(60, 64, 67, 0.15);\n",
       "    fill: var(--button-hover-fill-color);\n",
       "  }\n",
       "\n",
       "  .colab-df-quickchart-complete:disabled,\n",
       "  .colab-df-quickchart-complete:disabled:hover {\n",
       "    background-color: var(--disabled-bg-color);\n",
       "    fill: var(--disabled-fill-color);\n",
       "    box-shadow: none;\n",
       "  }\n",
       "\n",
       "  .colab-df-spinner {\n",
       "    border: 2px solid var(--fill-color);\n",
       "    border-color: transparent;\n",
       "    border-bottom-color: var(--fill-color);\n",
       "    animation:\n",
       "      spin 1s steps(1) infinite;\n",
       "  }\n",
       "\n",
       "  @keyframes spin {\n",
       "    0% {\n",
       "      border-color: transparent;\n",
       "      border-bottom-color: var(--fill-color);\n",
       "      border-left-color: var(--fill-color);\n",
       "    }\n",
       "    20% {\n",
       "      border-color: transparent;\n",
       "      border-left-color: var(--fill-color);\n",
       "      border-top-color: var(--fill-color);\n",
       "    }\n",
       "    30% {\n",
       "      border-color: transparent;\n",
       "      border-left-color: var(--fill-color);\n",
       "      border-top-color: var(--fill-color);\n",
       "      border-right-color: var(--fill-color);\n",
       "    }\n",
       "    40% {\n",
       "      border-color: transparent;\n",
       "      border-right-color: var(--fill-color);\n",
       "      border-top-color: var(--fill-color);\n",
       "    }\n",
       "    60% {\n",
       "      border-color: transparent;\n",
       "      border-right-color: var(--fill-color);\n",
       "    }\n",
       "    80% {\n",
       "      border-color: transparent;\n",
       "      border-right-color: var(--fill-color);\n",
       "      border-bottom-color: var(--fill-color);\n",
       "    }\n",
       "    90% {\n",
       "      border-color: transparent;\n",
       "      border-bottom-color: var(--fill-color);\n",
       "    }\n",
       "  }\n",
       "</style>\n",
       "\n",
       "  <script>\n",
       "    async function quickchart(key) {\n",
       "      const quickchartButtonEl =\n",
       "        document.querySelector('#' + key + ' button');\n",
       "      quickchartButtonEl.disabled = true;  // To prevent multiple clicks.\n",
       "      quickchartButtonEl.classList.add('colab-df-spinner');\n",
       "      try {\n",
       "        const charts = await google.colab.kernel.invokeFunction(\n",
       "            'suggestCharts', [key], {});\n",
       "      } catch (error) {\n",
       "        console.error('Error during call to suggestCharts:', error);\n",
       "      }\n",
       "      quickchartButtonEl.classList.remove('colab-df-spinner');\n",
       "      quickchartButtonEl.classList.add('colab-df-quickchart-complete');\n",
       "    }\n",
       "    (() => {\n",
       "      let quickchartButtonEl =\n",
       "        document.querySelector('#df-3aba508a-b7d6-42e8-9133-7f6f77c1b7eb button');\n",
       "      quickchartButtonEl.style.display =\n",
       "        google.colab.kernel.accessAllowed ? 'block' : 'none';\n",
       "    })();\n",
       "  </script>\n",
       "</div>\n",
       "    </div>\n",
       "  </div>\n"
      ],
      "text/plain": [
       "                                                                                    0\n",
       "atlas dataset class strategy GSR                                                     \n",
       "AAL   rmet    close 2        GSR    [[[0.49872941386279845, -0.8318829721130215, 1...\n",
       "                             noGSR  [[[0.678245159604991, -0.25980114630165074, 0....\n",
       "                    3        GSR    [[[0.8165110807596462, -0.5689161667585938, 1....\n",
       "                             noGSR  [[[0.9840598021404207, -0.07008979256868253, 0...\n",
       "              open  2        GSR    [[[0.02001187235572125, -0.07345551936605457, ..."
      ]
     },
     "execution_count": 53,
     "metadata": {},
     "output_type": "execute_result"
    }
   ],
   "source": []
  },
  {
   "cell_type": "code",
   "execution_count": null,
   "metadata": {
    "id": "h4LtzN5h_hoP"
   },
   "outputs": [],
   "source": []
  }
 ],
 "metadata": {
  "colab": {
   "provenance": []
  },
  "kernelspec": {
   "display_name": "conda_env1",
   "language": "python",
   "name": "python3"
  },
  "language_info": {
   "codemirror_mode": {
    "name": "ipython",
    "version": 3
   },
   "file_extension": ".py",
   "mimetype": "text/x-python",
   "name": "python",
   "nbconvert_exporter": "python",
   "pygments_lexer": "ipython3",
   "version": "3.12.4"
  }
 },
 "nbformat": 4,
 "nbformat_minor": 0
}
